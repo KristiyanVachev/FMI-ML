{
 "cells": [
  {
   "cell_type": "code",
   "execution_count": 1,
   "metadata": {
    "_cell_guid": "b1076dfc-b9ad-4769-8c92-a6c4dae69d19",
    "_kg_hide-input": false,
    "_uuid": "8f2839f25d086af736a60e9eeb907d3b93b6e0e5"
   },
   "outputs": [
    {
     "name": "stderr",
     "output_type": "stream",
     "text": [
      "d:\\installations\\programs\\python 3.6.2\\lib\\site-packages\\sklearn\\cross_validation.py:41: DeprecationWarning: This module was deprecated in version 0.18 in favor of the model_selection module into which all the refactored classes and functions are moved. Also note that the interface of the new CV iterators are different from that of this module. This module will be removed in 0.20.\n",
      "  \"This module will be removed in 0.20.\", DeprecationWarning)\n"
     ]
    }
   ],
   "source": [
    "import numpy as np # linear algebra\n",
    "import pandas as pd # data processing, CSV file I/O (e.g. pd.read_csv)\n",
    "import os\n",
    "\n",
    "import matplotlib.pyplot as plt\n",
    "%matplotlib inline\n",
    "import seaborn as sns\n",
    "\n",
    "from sklearn.cross_validation import KFold\n",
    "from sklearn.ensemble import (AdaBoostClassifier,BaggingClassifier,ExtraTreesClassifier,GradientBoostingClassifier,RandomForestClassifier,VotingClassifier)\n",
    "from sklearn.discriminant_analysis import LinearDiscriminantAnalysis\n",
    "from sklearn.linear_model import LogisticRegression, Perceptron, SGDClassifier, LogisticRegression, PassiveAggressiveClassifier,RidgeClassifierCV\n",
    "from sklearn.metrics import accuracy_score,auc,classification_report,confusion_matrix,mean_squared_error, precision_score, recall_score,roc_curve\n",
    "from sklearn.model_selection import cross_val_score,cross_val_predict,cross_validate,train_test_split,GridSearchCV,KFold,learning_curve,RandomizedSearchCV,StratifiedKFold\n",
    "from sklearn.multiclass import OneVsRestClassifier\n",
    "from sklearn.naive_bayes import GaussianNB\n",
    "from sklearn.neighbors import KNeighborsClassifier\n",
    "from sklearn.neural_network import MLPClassifier\n",
    "from sklearn.model_selection import GridSearchCV\n",
    "from sklearn.svm import SVC, LinearSVC\n",
    "from sklearn.tree import DecisionTreeClassifier\n",
    "\n",
    "from sklearn import ensemble, linear_model,neighbors, svm, tree\n",
    "\n",
    "from scipy.stats import randint\n",
    "from xgboost import XGBClassifier\n",
    "\n",
    "df_train=pd.read_csv('data/train.csv',sep=',')\n",
    "df_test=pd.read_csv('data/test.csv',sep=',')\n",
    "df_data = df_train.append(df_test)\n",
    "\n",
    "PassengerId = df_test['PassengerId']\n",
    "Submission=pd.DataFrame()\n",
    "Submission['PassengerId'] = df_test['PassengerId']"
   ]
  },
  {
   "cell_type": "markdown",
   "metadata": {
    "_cell_guid": "eb5476cd-91d9-483c-a3b7-1590073da4d8",
    "_uuid": "1ce9a1b19b5440668849af3010cefd2c84f1b4f6"
   },
   "source": [
    "# Exploring data"
   ]
  },
  {
   "cell_type": "markdown",
   "metadata": {
    "_cell_guid": "f191bda6-f63b-420a-8ae0-f2e22607b425",
    "_uuid": "bb5839d5b2d1036f98090fb2ec950f03304caec9"
   },
   "source": [
    "### Number of rows and columns "
   ]
  },
  {
   "cell_type": "code",
   "execution_count": 2,
   "metadata": {
    "_cell_guid": "073e7a38-5e62-427e-ba8d-72a7a5334442",
    "_uuid": "47cafc06d2881a01e80469d40ed38cbea126652c"
   },
   "outputs": [
    {
     "name": "stdout",
     "output_type": "stream",
     "text": [
      "(891, 12)\n",
      "----------------------------\n",
      "(418, 11)\n"
     ]
    }
   ],
   "source": [
    "print(df_train.shape)\n",
    "print(\"----------------------------\")\n",
    "print(df_test.shape)"
   ]
  },
  {
   "cell_type": "markdown",
   "metadata": {
    "_cell_guid": "7bab27ce-09d8-43aa-8842-ee000e2d1e8d",
    "_uuid": "7e85c3850f8dd12a0e782456fb1c1986fbaf84b1"
   },
   "source": [
    "### Column Names"
   ]
  },
  {
   "cell_type": "code",
   "execution_count": 3,
   "metadata": {
    "_cell_guid": "4be833c5-e99c-4519-9b29-4d27699cfe12",
    "_uuid": "ec6fdc9350bc1e3ce83114c370008528e8109afa"
   },
   "outputs": [
    {
     "data": {
      "text/plain": [
       "Index(['PassengerId', 'Survived', 'Pclass', 'Name', 'Sex', 'Age', 'SibSp',\n",
       "       'Parch', 'Ticket', 'Fare', 'Cabin', 'Embarked'],\n",
       "      dtype='object')"
      ]
     },
     "execution_count": 3,
     "metadata": {},
     "output_type": "execute_result"
    }
   ],
   "source": [
    "df_train.columns"
   ]
  },
  {
   "cell_type": "markdown",
   "metadata": {
    "_cell_guid": "a340d978-40e3-407d-aadd-78a10c765178",
    "_uuid": "1c3996b06fe7470613faf06c5f0341103ec349e8"
   },
   "source": [
    "### Data Types"
   ]
  },
  {
   "cell_type": "code",
   "execution_count": 4,
   "metadata": {
    "_cell_guid": "1e27d5dd-1d67-438f-87c3-ea4577f297cd",
    "_uuid": "4534fe968fece75089f136f647d5ee9f1408b21e"
   },
   "outputs": [
    {
     "name": "stdout",
     "output_type": "stream",
     "text": [
      "<class 'pandas.core.frame.DataFrame'>\n",
      "Int64Index: 1309 entries, 0 to 417\n",
      "Data columns (total 12 columns):\n",
      "Age            1046 non-null float64\n",
      "Cabin          295 non-null object\n",
      "Embarked       1307 non-null object\n",
      "Fare           1308 non-null float64\n",
      "Name           1309 non-null object\n",
      "Parch          1309 non-null int64\n",
      "PassengerId    1309 non-null int64\n",
      "Pclass         1309 non-null int64\n",
      "Sex            1309 non-null object\n",
      "SibSp          1309 non-null int64\n",
      "Survived       891 non-null float64\n",
      "Ticket         1309 non-null object\n",
      "dtypes: float64(3), int64(4), object(5)\n",
      "memory usage: 132.9+ KB\n"
     ]
    }
   ],
   "source": [
    "df_data.info()"
   ]
  },
  {
   "cell_type": "markdown",
   "metadata": {
    "_cell_guid": "41a8e34c-ee85-4cdb-86d6-5f01e964c409",
    "_uuid": "f6b8fbba4bb96b7e3aeaa562176e60051846abc1"
   },
   "source": [
    "### Missing Data"
   ]
  },
  {
   "cell_type": "code",
   "execution_count": 5,
   "metadata": {
    "_cell_guid": "f9bee28e-9b27-4f2b-8bf5-8e7a2b09ebbf",
    "_uuid": "77c81d38447b990a95f21afe3fae8bb5f6d00b4e",
    "scrolled": true
   },
   "outputs": [
    {
     "name": "stdout",
     "output_type": "stream",
     "text": [
      "Age             263\n",
      "Cabin          1014\n",
      "Embarked          2\n",
      "Fare              1\n",
      "Name              0\n",
      "Parch             0\n",
      "PassengerId       0\n",
      "Pclass            0\n",
      "Sex               0\n",
      "SibSp             0\n",
      "Survived        418\n",
      "Ticket            0\n",
      "dtype: int64\n"
     ]
    }
   ],
   "source": [
    "print(pd.isnull(df_data).sum())"
   ]
  },
  {
   "cell_type": "markdown",
   "metadata": {
    "_cell_guid": "11c1e7bb-6f12-48ca-8807-add46fb447f4",
    "_uuid": "5bf733a2fc59ab5fd469aa07d107c06ffddc50a2"
   },
   "source": [
    "## Observations on missing data.\n",
    "\n",
    "The missing ages are very important. We must figure out how to replace them."
   ]
  },
  {
   "cell_type": "markdown",
   "metadata": {
    "_cell_guid": "8807eb08-dd68-45b9-ab5e-d810a98a8cbe",
    "_uuid": "9d051a3476f6271b33a955216e947b7aea3de0f3"
   },
   "source": [
    "## Statistical Overview of the data"
   ]
  },
  {
   "cell_type": "code",
   "execution_count": 6,
   "metadata": {
    "_cell_guid": "817d81d9-6912-4771-b654-b3d5af85ed46",
    "_uuid": "10dbf2b79a79bbdcb283fb8237cf9a7eb94bccb2"
   },
   "outputs": [
    {
     "data": {
      "text/html": [
       "<div>\n",
       "<style scoped>\n",
       "    .dataframe tbody tr th:only-of-type {\n",
       "        vertical-align: middle;\n",
       "    }\n",
       "\n",
       "    .dataframe tbody tr th {\n",
       "        vertical-align: top;\n",
       "    }\n",
       "\n",
       "    .dataframe thead th {\n",
       "        text-align: right;\n",
       "    }\n",
       "</style>\n",
       "<table border=\"1\" class=\"dataframe\">\n",
       "  <thead>\n",
       "    <tr style=\"text-align: right;\">\n",
       "      <th></th>\n",
       "      <th>PassengerId</th>\n",
       "      <th>Survived</th>\n",
       "      <th>Pclass</th>\n",
       "      <th>Age</th>\n",
       "      <th>SibSp</th>\n",
       "      <th>Parch</th>\n",
       "      <th>Fare</th>\n",
       "    </tr>\n",
       "  </thead>\n",
       "  <tbody>\n",
       "    <tr>\n",
       "      <th>count</th>\n",
       "      <td>891.000000</td>\n",
       "      <td>891.000000</td>\n",
       "      <td>891.000000</td>\n",
       "      <td>714.000000</td>\n",
       "      <td>891.000000</td>\n",
       "      <td>891.000000</td>\n",
       "      <td>891.000000</td>\n",
       "    </tr>\n",
       "    <tr>\n",
       "      <th>mean</th>\n",
       "      <td>446.000000</td>\n",
       "      <td>0.383838</td>\n",
       "      <td>2.308642</td>\n",
       "      <td>29.699118</td>\n",
       "      <td>0.523008</td>\n",
       "      <td>0.381594</td>\n",
       "      <td>32.204208</td>\n",
       "    </tr>\n",
       "    <tr>\n",
       "      <th>std</th>\n",
       "      <td>257.353842</td>\n",
       "      <td>0.486592</td>\n",
       "      <td>0.836071</td>\n",
       "      <td>14.526497</td>\n",
       "      <td>1.102743</td>\n",
       "      <td>0.806057</td>\n",
       "      <td>49.693429</td>\n",
       "    </tr>\n",
       "    <tr>\n",
       "      <th>min</th>\n",
       "      <td>1.000000</td>\n",
       "      <td>0.000000</td>\n",
       "      <td>1.000000</td>\n",
       "      <td>0.420000</td>\n",
       "      <td>0.000000</td>\n",
       "      <td>0.000000</td>\n",
       "      <td>0.000000</td>\n",
       "    </tr>\n",
       "    <tr>\n",
       "      <th>25%</th>\n",
       "      <td>223.500000</td>\n",
       "      <td>0.000000</td>\n",
       "      <td>2.000000</td>\n",
       "      <td>20.125000</td>\n",
       "      <td>0.000000</td>\n",
       "      <td>0.000000</td>\n",
       "      <td>7.910400</td>\n",
       "    </tr>\n",
       "    <tr>\n",
       "      <th>50%</th>\n",
       "      <td>446.000000</td>\n",
       "      <td>0.000000</td>\n",
       "      <td>3.000000</td>\n",
       "      <td>28.000000</td>\n",
       "      <td>0.000000</td>\n",
       "      <td>0.000000</td>\n",
       "      <td>14.454200</td>\n",
       "    </tr>\n",
       "    <tr>\n",
       "      <th>75%</th>\n",
       "      <td>668.500000</td>\n",
       "      <td>1.000000</td>\n",
       "      <td>3.000000</td>\n",
       "      <td>38.000000</td>\n",
       "      <td>1.000000</td>\n",
       "      <td>0.000000</td>\n",
       "      <td>31.000000</td>\n",
       "    </tr>\n",
       "    <tr>\n",
       "      <th>max</th>\n",
       "      <td>891.000000</td>\n",
       "      <td>1.000000</td>\n",
       "      <td>3.000000</td>\n",
       "      <td>80.000000</td>\n",
       "      <td>8.000000</td>\n",
       "      <td>6.000000</td>\n",
       "      <td>512.329200</td>\n",
       "    </tr>\n",
       "  </tbody>\n",
       "</table>\n",
       "</div>"
      ],
      "text/plain": [
       "       PassengerId    Survived      Pclass         Age       SibSp  \\\n",
       "count   891.000000  891.000000  891.000000  714.000000  891.000000   \n",
       "mean    446.000000    0.383838    2.308642   29.699118    0.523008   \n",
       "std     257.353842    0.486592    0.836071   14.526497    1.102743   \n",
       "min       1.000000    0.000000    1.000000    0.420000    0.000000   \n",
       "25%     223.500000    0.000000    2.000000   20.125000    0.000000   \n",
       "50%     446.000000    0.000000    3.000000   28.000000    0.000000   \n",
       "75%     668.500000    1.000000    3.000000   38.000000    1.000000   \n",
       "max     891.000000    1.000000    3.000000   80.000000    8.000000   \n",
       "\n",
       "            Parch        Fare  \n",
       "count  891.000000  891.000000  \n",
       "mean     0.381594   32.204208  \n",
       "std      0.806057   49.693429  \n",
       "min      0.000000    0.000000  \n",
       "25%      0.000000    7.910400  \n",
       "50%      0.000000   14.454200  \n",
       "75%      0.000000   31.000000  \n",
       "max      6.000000  512.329200  "
      ]
     },
     "execution_count": 6,
     "metadata": {},
     "output_type": "execute_result"
    }
   ],
   "source": [
    "df_train.describe()"
   ]
  },
  {
   "cell_type": "code",
   "execution_count": 7,
   "metadata": {
    "_cell_guid": "e1a5061c-c823-4768-9fde-1eec950c9a75",
    "_uuid": "0e37aa2ae972acdbaeb6366bb55c838eef8bc76e"
   },
   "outputs": [
    {
     "data": {
      "text/html": [
       "<div>\n",
       "<style scoped>\n",
       "    .dataframe tbody tr th:only-of-type {\n",
       "        vertical-align: middle;\n",
       "    }\n",
       "\n",
       "    .dataframe tbody tr th {\n",
       "        vertical-align: top;\n",
       "    }\n",
       "\n",
       "    .dataframe thead th {\n",
       "        text-align: right;\n",
       "    }\n",
       "</style>\n",
       "<table border=\"1\" class=\"dataframe\">\n",
       "  <thead>\n",
       "    <tr style=\"text-align: right;\">\n",
       "      <th></th>\n",
       "      <th>PassengerId</th>\n",
       "      <th>Pclass</th>\n",
       "      <th>Age</th>\n",
       "      <th>SibSp</th>\n",
       "      <th>Parch</th>\n",
       "      <th>Fare</th>\n",
       "    </tr>\n",
       "  </thead>\n",
       "  <tbody>\n",
       "    <tr>\n",
       "      <th>count</th>\n",
       "      <td>418.000000</td>\n",
       "      <td>418.000000</td>\n",
       "      <td>332.000000</td>\n",
       "      <td>418.000000</td>\n",
       "      <td>418.000000</td>\n",
       "      <td>417.000000</td>\n",
       "    </tr>\n",
       "    <tr>\n",
       "      <th>mean</th>\n",
       "      <td>1100.500000</td>\n",
       "      <td>2.265550</td>\n",
       "      <td>30.272590</td>\n",
       "      <td>0.447368</td>\n",
       "      <td>0.392344</td>\n",
       "      <td>35.627188</td>\n",
       "    </tr>\n",
       "    <tr>\n",
       "      <th>std</th>\n",
       "      <td>120.810458</td>\n",
       "      <td>0.841838</td>\n",
       "      <td>14.181209</td>\n",
       "      <td>0.896760</td>\n",
       "      <td>0.981429</td>\n",
       "      <td>55.907576</td>\n",
       "    </tr>\n",
       "    <tr>\n",
       "      <th>min</th>\n",
       "      <td>892.000000</td>\n",
       "      <td>1.000000</td>\n",
       "      <td>0.170000</td>\n",
       "      <td>0.000000</td>\n",
       "      <td>0.000000</td>\n",
       "      <td>0.000000</td>\n",
       "    </tr>\n",
       "    <tr>\n",
       "      <th>25%</th>\n",
       "      <td>996.250000</td>\n",
       "      <td>1.000000</td>\n",
       "      <td>21.000000</td>\n",
       "      <td>0.000000</td>\n",
       "      <td>0.000000</td>\n",
       "      <td>7.895800</td>\n",
       "    </tr>\n",
       "    <tr>\n",
       "      <th>50%</th>\n",
       "      <td>1100.500000</td>\n",
       "      <td>3.000000</td>\n",
       "      <td>27.000000</td>\n",
       "      <td>0.000000</td>\n",
       "      <td>0.000000</td>\n",
       "      <td>14.454200</td>\n",
       "    </tr>\n",
       "    <tr>\n",
       "      <th>75%</th>\n",
       "      <td>1204.750000</td>\n",
       "      <td>3.000000</td>\n",
       "      <td>39.000000</td>\n",
       "      <td>1.000000</td>\n",
       "      <td>0.000000</td>\n",
       "      <td>31.500000</td>\n",
       "    </tr>\n",
       "    <tr>\n",
       "      <th>max</th>\n",
       "      <td>1309.000000</td>\n",
       "      <td>3.000000</td>\n",
       "      <td>76.000000</td>\n",
       "      <td>8.000000</td>\n",
       "      <td>9.000000</td>\n",
       "      <td>512.329200</td>\n",
       "    </tr>\n",
       "  </tbody>\n",
       "</table>\n",
       "</div>"
      ],
      "text/plain": [
       "       PassengerId      Pclass         Age       SibSp       Parch        Fare\n",
       "count   418.000000  418.000000  332.000000  418.000000  418.000000  417.000000\n",
       "mean   1100.500000    2.265550   30.272590    0.447368    0.392344   35.627188\n",
       "std     120.810458    0.841838   14.181209    0.896760    0.981429   55.907576\n",
       "min     892.000000    1.000000    0.170000    0.000000    0.000000    0.000000\n",
       "25%     996.250000    1.000000   21.000000    0.000000    0.000000    7.895800\n",
       "50%    1100.500000    3.000000   27.000000    0.000000    0.000000   14.454200\n",
       "75%    1204.750000    3.000000   39.000000    1.000000    0.000000   31.500000\n",
       "max    1309.000000    3.000000   76.000000    8.000000    9.000000  512.329200"
      ]
     },
     "execution_count": 7,
     "metadata": {},
     "output_type": "execute_result"
    }
   ],
   "source": [
    "df_test.describe()"
   ]
  },
  {
   "cell_type": "code",
   "execution_count": 8,
   "metadata": {
    "_cell_guid": "37d3c26f-7b3e-411d-b939-ad874ba31eea",
    "_uuid": "ec577a60cb08406719037e966a974f29573b57fb"
   },
   "outputs": [
    {
     "data": {
      "text/html": [
       "<div>\n",
       "<style scoped>\n",
       "    .dataframe tbody tr th:only-of-type {\n",
       "        vertical-align: middle;\n",
       "    }\n",
       "\n",
       "    .dataframe tbody tr th {\n",
       "        vertical-align: top;\n",
       "    }\n",
       "\n",
       "    .dataframe thead th {\n",
       "        text-align: right;\n",
       "    }\n",
       "</style>\n",
       "<table border=\"1\" class=\"dataframe\">\n",
       "  <thead>\n",
       "    <tr style=\"text-align: right;\">\n",
       "      <th></th>\n",
       "      <th>PassengerId</th>\n",
       "      <th>Survived</th>\n",
       "      <th>Pclass</th>\n",
       "      <th>Name</th>\n",
       "      <th>Sex</th>\n",
       "      <th>Age</th>\n",
       "      <th>SibSp</th>\n",
       "      <th>Parch</th>\n",
       "      <th>Ticket</th>\n",
       "      <th>Fare</th>\n",
       "      <th>Cabin</th>\n",
       "      <th>Embarked</th>\n",
       "    </tr>\n",
       "  </thead>\n",
       "  <tbody>\n",
       "    <tr>\n",
       "      <th>0</th>\n",
       "      <td>1</td>\n",
       "      <td>0</td>\n",
       "      <td>3</td>\n",
       "      <td>Braund, Mr. Owen Harris</td>\n",
       "      <td>male</td>\n",
       "      <td>22.0</td>\n",
       "      <td>1</td>\n",
       "      <td>0</td>\n",
       "      <td>A/5 21171</td>\n",
       "      <td>7.2500</td>\n",
       "      <td>NaN</td>\n",
       "      <td>S</td>\n",
       "    </tr>\n",
       "    <tr>\n",
       "      <th>1</th>\n",
       "      <td>2</td>\n",
       "      <td>1</td>\n",
       "      <td>1</td>\n",
       "      <td>Cumings, Mrs. John Bradley (Florence Briggs Th...</td>\n",
       "      <td>female</td>\n",
       "      <td>38.0</td>\n",
       "      <td>1</td>\n",
       "      <td>0</td>\n",
       "      <td>PC 17599</td>\n",
       "      <td>71.2833</td>\n",
       "      <td>C85</td>\n",
       "      <td>C</td>\n",
       "    </tr>\n",
       "    <tr>\n",
       "      <th>2</th>\n",
       "      <td>3</td>\n",
       "      <td>1</td>\n",
       "      <td>3</td>\n",
       "      <td>Heikkinen, Miss. Laina</td>\n",
       "      <td>female</td>\n",
       "      <td>26.0</td>\n",
       "      <td>0</td>\n",
       "      <td>0</td>\n",
       "      <td>STON/O2. 3101282</td>\n",
       "      <td>7.9250</td>\n",
       "      <td>NaN</td>\n",
       "      <td>S</td>\n",
       "    </tr>\n",
       "    <tr>\n",
       "      <th>3</th>\n",
       "      <td>4</td>\n",
       "      <td>1</td>\n",
       "      <td>1</td>\n",
       "      <td>Futrelle, Mrs. Jacques Heath (Lily May Peel)</td>\n",
       "      <td>female</td>\n",
       "      <td>35.0</td>\n",
       "      <td>1</td>\n",
       "      <td>0</td>\n",
       "      <td>113803</td>\n",
       "      <td>53.1000</td>\n",
       "      <td>C123</td>\n",
       "      <td>S</td>\n",
       "    </tr>\n",
       "    <tr>\n",
       "      <th>4</th>\n",
       "      <td>5</td>\n",
       "      <td>0</td>\n",
       "      <td>3</td>\n",
       "      <td>Allen, Mr. William Henry</td>\n",
       "      <td>male</td>\n",
       "      <td>35.0</td>\n",
       "      <td>0</td>\n",
       "      <td>0</td>\n",
       "      <td>373450</td>\n",
       "      <td>8.0500</td>\n",
       "      <td>NaN</td>\n",
       "      <td>S</td>\n",
       "    </tr>\n",
       "  </tbody>\n",
       "</table>\n",
       "</div>"
      ],
      "text/plain": [
       "   PassengerId  Survived  Pclass  \\\n",
       "0            1         0       3   \n",
       "1            2         1       1   \n",
       "2            3         1       3   \n",
       "3            4         1       1   \n",
       "4            5         0       3   \n",
       "\n",
       "                                                Name     Sex   Age  SibSp  \\\n",
       "0                            Braund, Mr. Owen Harris    male  22.0      1   \n",
       "1  Cumings, Mrs. John Bradley (Florence Briggs Th...  female  38.0      1   \n",
       "2                             Heikkinen, Miss. Laina  female  26.0      0   \n",
       "3       Futrelle, Mrs. Jacques Heath (Lily May Peel)  female  35.0      1   \n",
       "4                           Allen, Mr. William Henry    male  35.0      0   \n",
       "\n",
       "   Parch            Ticket     Fare Cabin Embarked  \n",
       "0      0         A/5 21171   7.2500   NaN        S  \n",
       "1      0          PC 17599  71.2833   C85        C  \n",
       "2      0  STON/O2. 3101282   7.9250   NaN        S  \n",
       "3      0            113803  53.1000  C123        S  \n",
       "4      0            373450   8.0500   NaN        S  "
      ]
     },
     "execution_count": 8,
     "metadata": {},
     "output_type": "execute_result"
    }
   ],
   "source": [
    "df_train.head(5)"
   ]
  },
  {
   "cell_type": "code",
   "execution_count": 9,
   "metadata": {
    "_cell_guid": "9dd2bf45-bda2-4dab-bc69-8a8e46c1b72b",
    "_uuid": "30ca0953dbf13567cfccfd96bacf7e76f4474984"
   },
   "outputs": [
    {
     "data": {
      "text/html": [
       "<div>\n",
       "<style scoped>\n",
       "    .dataframe tbody tr th:only-of-type {\n",
       "        vertical-align: middle;\n",
       "    }\n",
       "\n",
       "    .dataframe tbody tr th {\n",
       "        vertical-align: top;\n",
       "    }\n",
       "\n",
       "    .dataframe thead th {\n",
       "        text-align: right;\n",
       "    }\n",
       "</style>\n",
       "<table border=\"1\" class=\"dataframe\">\n",
       "  <thead>\n",
       "    <tr style=\"text-align: right;\">\n",
       "      <th></th>\n",
       "      <th>PassengerId</th>\n",
       "      <th>Survived</th>\n",
       "      <th>Pclass</th>\n",
       "      <th>Name</th>\n",
       "      <th>Sex</th>\n",
       "      <th>Age</th>\n",
       "      <th>SibSp</th>\n",
       "      <th>Parch</th>\n",
       "      <th>Ticket</th>\n",
       "      <th>Fare</th>\n",
       "      <th>Cabin</th>\n",
       "      <th>Embarked</th>\n",
       "    </tr>\n",
       "  </thead>\n",
       "  <tbody>\n",
       "    <tr>\n",
       "      <th>886</th>\n",
       "      <td>887</td>\n",
       "      <td>0</td>\n",
       "      <td>2</td>\n",
       "      <td>Montvila, Rev. Juozas</td>\n",
       "      <td>male</td>\n",
       "      <td>27.0</td>\n",
       "      <td>0</td>\n",
       "      <td>0</td>\n",
       "      <td>211536</td>\n",
       "      <td>13.00</td>\n",
       "      <td>NaN</td>\n",
       "      <td>S</td>\n",
       "    </tr>\n",
       "    <tr>\n",
       "      <th>887</th>\n",
       "      <td>888</td>\n",
       "      <td>1</td>\n",
       "      <td>1</td>\n",
       "      <td>Graham, Miss. Margaret Edith</td>\n",
       "      <td>female</td>\n",
       "      <td>19.0</td>\n",
       "      <td>0</td>\n",
       "      <td>0</td>\n",
       "      <td>112053</td>\n",
       "      <td>30.00</td>\n",
       "      <td>B42</td>\n",
       "      <td>S</td>\n",
       "    </tr>\n",
       "    <tr>\n",
       "      <th>888</th>\n",
       "      <td>889</td>\n",
       "      <td>0</td>\n",
       "      <td>3</td>\n",
       "      <td>Johnston, Miss. Catherine Helen \"Carrie\"</td>\n",
       "      <td>female</td>\n",
       "      <td>NaN</td>\n",
       "      <td>1</td>\n",
       "      <td>2</td>\n",
       "      <td>W./C. 6607</td>\n",
       "      <td>23.45</td>\n",
       "      <td>NaN</td>\n",
       "      <td>S</td>\n",
       "    </tr>\n",
       "    <tr>\n",
       "      <th>889</th>\n",
       "      <td>890</td>\n",
       "      <td>1</td>\n",
       "      <td>1</td>\n",
       "      <td>Behr, Mr. Karl Howell</td>\n",
       "      <td>male</td>\n",
       "      <td>26.0</td>\n",
       "      <td>0</td>\n",
       "      <td>0</td>\n",
       "      <td>111369</td>\n",
       "      <td>30.00</td>\n",
       "      <td>C148</td>\n",
       "      <td>C</td>\n",
       "    </tr>\n",
       "    <tr>\n",
       "      <th>890</th>\n",
       "      <td>891</td>\n",
       "      <td>0</td>\n",
       "      <td>3</td>\n",
       "      <td>Dooley, Mr. Patrick</td>\n",
       "      <td>male</td>\n",
       "      <td>32.0</td>\n",
       "      <td>0</td>\n",
       "      <td>0</td>\n",
       "      <td>370376</td>\n",
       "      <td>7.75</td>\n",
       "      <td>NaN</td>\n",
       "      <td>Q</td>\n",
       "    </tr>\n",
       "  </tbody>\n",
       "</table>\n",
       "</div>"
      ],
      "text/plain": [
       "     PassengerId  Survived  Pclass                                      Name  \\\n",
       "886          887         0       2                     Montvila, Rev. Juozas   \n",
       "887          888         1       1              Graham, Miss. Margaret Edith   \n",
       "888          889         0       3  Johnston, Miss. Catherine Helen \"Carrie\"   \n",
       "889          890         1       1                     Behr, Mr. Karl Howell   \n",
       "890          891         0       3                       Dooley, Mr. Patrick   \n",
       "\n",
       "        Sex   Age  SibSp  Parch      Ticket   Fare Cabin Embarked  \n",
       "886    male  27.0      0      0      211536  13.00   NaN        S  \n",
       "887  female  19.0      0      0      112053  30.00   B42        S  \n",
       "888  female   NaN      1      2  W./C. 6607  23.45   NaN        S  \n",
       "889    male  26.0      0      0      111369  30.00  C148        C  \n",
       "890    male  32.0      0      0      370376   7.75   NaN        Q  "
      ]
     },
     "execution_count": 9,
     "metadata": {},
     "output_type": "execute_result"
    }
   ],
   "source": [
    "df_train.tail(5)"
   ]
  },
  {
   "cell_type": "markdown",
   "metadata": {
    "_cell_guid": "76f9e3e9-db43-4cc4-a4cd-5f54003fe573",
    "_uuid": "45b16cde292ad9c45d0143e99a2be8f11ed9608b"
   },
   "source": [
    "## Survival by Age, Class and Gender"
   ]
  },
  {
   "cell_type": "code",
   "execution_count": 10,
   "metadata": {
    "_cell_guid": "158f3ef3-80fd-464d-a837-6b916926bbb2",
    "_uuid": "88e91d960cd9f7ec2fa3a635d93e69e54c4e338a"
   },
   "outputs": [
    {
     "data": {
      "text/plain": [
       "<seaborn.axisgrid.FacetGrid at 0x20d29c382b0>"
      ]
     },
     "execution_count": 10,
     "metadata": {},
     "output_type": "execute_result"
    },
    {
     "data": {
      "image/png": "[encoded data removed]",
      "text/plain": [
       "<matplotlib.figure.Figure at 0x20d29c389e8>"
      ]
     },
     "metadata": {},
     "output_type": "display_data"
    }
   ],
   "source": [
    "grid = sns.FacetGrid(df_train, col = \"Pclass\", row = \"Sex\", hue = \"Survived\", palette = 'seismic')\n",
    "grid = grid.map(plt.scatter, \"PassengerId\", \"Age\")\n",
    "grid.add_legend()\n",
    "grid"
   ]
  },
  {
   "cell_type": "markdown",
   "metadata": {
    "_cell_guid": "3cf55d17-8577-47cc-b81e-8c8fc89d60dc",
    "_uuid": "3d94018b485b98ae9744f17e6ead6f604061cbb6"
   },
   "source": [
    "## Survival by Age, Port of Embarkation and Gender"
   ]
  },
  {
   "cell_type": "code",
   "execution_count": 11,
   "metadata": {
    "_cell_guid": "e5f3871e-6638-426d-b0d9-5ed92d0ff1b5",
    "_uuid": "706c28dd41dc6ace4ba207bf027f59181cd14f05"
   },
   "outputs": [
    {
     "data": {
      "text/plain": [
       "<seaborn.axisgrid.FacetGrid at 0x20d2bfc7240>"
      ]
     },
     "execution_count": 11,
     "metadata": {},
     "output_type": "execute_result"
    },
    {
     "data": {
      "image/png": "[encoded data removed]",
      "text/plain": [
       "<matplotlib.figure.Figure at 0x20d2bfc7ba8>"
      ]
     },
     "metadata": {},
     "output_type": "display_data"
    }
   ],
   "source": [
    "grid = sns.FacetGrid(df_train, col = \"Embarked\", row = \"Sex\", hue = \"Survived\", palette = 'seismic')\n",
    "grid = grid.map(plt.scatter, \"PassengerId\", \"Age\")\n",
    "grid.add_legend()\n",
    "grid"
   ]
  },
  {
   "cell_type": "markdown",
   "metadata": {
    "_cell_guid": "be3ae2ae-f77b-4ae4-b8f2-09c5e6138907",
    "_uuid": "1687792f3f9915fe72cd2766681000ae74554361"
   },
   "source": [
    "Most of the people embarked on port 'S' and only a few at 'C'. Regardless of embarktion port women always are more likely to survice."
   ]
  },
  {
   "cell_type": "markdown",
   "metadata": {
    "_cell_guid": "0d5d257f-0b2c-4f43-9090-c74053973f07",
    "_uuid": "c963f65c9a8f91b04102ce3e4d63ed1062f7d7ee"
   },
   "source": [
    "## Survival by Age, Number of Siblings and Gender"
   ]
  },
  {
   "cell_type": "code",
   "execution_count": 12,
   "metadata": {
    "_cell_guid": "82442bd9-cdfc-4f9b-9ebc-9f69238159aa",
    "_uuid": "b365e7b30eb770a2d1e77e4a95d9b4c1ced60c6b"
   },
   "outputs": [
    {
     "data": {
      "text/plain": [
       "<seaborn.axisgrid.FacetGrid at 0x20d2c49eb70>"
      ]
     },
     "execution_count": 12,
     "metadata": {},
     "output_type": "execute_result"
    },
    {
     "data": {
      "image/png": "[encoded data removed]",
      "text/plain": [
       "<matplotlib.figure.Figure at 0x20d2c429898>"
      ]
     },
     "metadata": {},
     "output_type": "display_data"
    }
   ],
   "source": [
    "grid = sns.FacetGrid(df_train, col = \"SibSp\", row = \"Sex\", hue = \"Survived\", palette = 'seismic')\n",
    "grid = grid.map(plt.scatter, \"PassengerId\", \"Age\")\n",
    "grid.add_legend()\n",
    "grid"
   ]
  },
  {
   "cell_type": "markdown",
   "metadata": {
    "_cell_guid": "10118d5d-4913-4804-93f8-f2d19954c8cd",
    "_uuid": "e7bcda55320028f7e6f8da737e88bba582f560c8"
   },
   "source": [
    "## Survival by Age, Number of parch and Gender"
   ]
  },
  {
   "cell_type": "code",
   "execution_count": 13,
   "metadata": {
    "_cell_guid": "e7e9b15d-5ace-4571-8462-eecb93f7d6ec",
    "_uuid": "8c5c3db479f52e13aa80b6025c351eda045e97fb"
   },
   "outputs": [
    {
     "data": {
      "text/plain": [
       "<seaborn.axisgrid.FacetGrid at 0x20d2ccf92b0>"
      ]
     },
     "execution_count": 13,
     "metadata": {},
     "output_type": "execute_result"
    },
    {
     "data": {
      "image/png": "[encoded data removed]",
      "text/plain": [
       "<matplotlib.figure.Figure at 0x20d2cd4a080>"
      ]
     },
     "metadata": {},
     "output_type": "display_data"
    }
   ],
   "source": [
    "grid = sns.FacetGrid(df_train, col = \"Parch\", row = \"Sex\", hue = \"Survived\", palette = 'seismic')\n",
    "grid = grid.map(plt.scatter, \"PassengerId\", \"Age\")\n",
    "grid.add_legend()\n",
    "grid"
   ]
  },
  {
   "cell_type": "markdown",
   "metadata": {
    "_cell_guid": "1de34739-550f-4384-a3e0-0ea807bb297e",
    "_uuid": "ab4504d0c13948980ed23f80d155fd7d31cd4301"
   },
   "source": [
    "# Creating a base model"
   ]
  },
  {
   "cell_type": "code",
   "execution_count": 15,
   "metadata": {
    "_cell_guid": "dd1b861c-f4d7-4d2f-a131-9b6f59b48624",
    "_uuid": "ca99023e73866ccccf2b58dadd69242defaea90c"
   },
   "outputs": [
    {
     "name": "stdout",
     "output_type": "stream",
     "text": [
      "Accuracy: 0.6791044776119403\n"
     ]
    }
   ],
   "source": [
    "NUMERIC_COLUMNS=['Pclass','Age','SibSp','Parch','Fare']\n",
    "\n",
    "# create test and training data\n",
    "test = df_test[NUMERIC_COLUMNS].fillna(-1000)\n",
    "data_to_train = df_train[NUMERIC_COLUMNS].fillna(-1000)\n",
    "y=df_train['Survived']\n",
    "X_train, X_test, y_train, y_test = train_test_split(data_to_train, y, test_size=0.3,random_state=21, stratify=y)\n",
    "\n",
    "clf = SVC()\n",
    "clf.fit(X_train, y_train)\n",
    "\n",
    "# Print the accuracy\n",
    "print(\"Accuracy: {}\".format(clf.score(X_test, y_test)))"
   ]
  },
  {
   "cell_type": "markdown",
   "metadata": {
    "_cell_guid": "3a0ea6c3-2148-408e-b1eb-12b9b4f5cf6b",
    "_uuid": "c4c7faeb87fbe3324c324a01a0dc9bac3e31829d"
   },
   "source": [
    "# Cleaning data and feature engineering"
   ]
  },
  {
   "cell_type": "markdown",
   "metadata": {
    "_cell_guid": "8cf4c617-baf1-4172-85e0-7ae1754e23a8",
    "_uuid": "fad3c30cc68e471b84be592166cc2a661c4a357f"
   },
   "source": [
    "## Estimate missing Fare Data based on Embarkation\n",
    "While there is relatively little missing Fare data, the range of possible values is large, so rather than using simply the media of all fares, we can look at the passenger class or embarkation port in order to use a more appropriate average. We'll start by looking at boxplots for the fares to ensure we are making soon assumptions before we go onto estimating the missing values."
   ]
  },
  {
   "cell_type": "code",
   "execution_count": 18,
   "metadata": {
    "_cell_guid": "dc5090b5-1bb7-4ede-805e-62d9d4901867",
    "_uuid": "7bec995c8fc6a1bdc6634d9eaeafd5f7acd617c4"
   },
   "outputs": [
    {
     "data": {
      "image/png": "[encoded data removed]",
      "text/plain": [
       "<matplotlib.figure.Figure at 0x20d2fc08320>"
      ]
     },
     "metadata": {},
     "output_type": "display_data"
    }
   ],
   "source": [
    "fig, (ax1, ax2) = plt.subplots(ncols=2, sharey=True,figsize=(12,6))\n",
    "sns.boxplot(data = df_data, x = \"Pclass\", y = \"Fare\",ax=ax1);\n",
    "plt.figure(1)\n",
    "sns.boxplot(data = df_data, x = \"Embarked\", y = \"Fare\",ax=ax2);\n",
    "plt.show()"
   ]
  },
  {
   "cell_type": "code",
   "execution_count": 19,
   "metadata": {
    "_cell_guid": "2a05e7be-844e-4c77-96a2-bfb146afc694",
    "_uuid": "af9325ff33b555d3f2d69495baec14ad59dd19a0"
   },
   "outputs": [
    {
     "name": "stdout",
     "output_type": "stream",
     "text": [
      "Missing Fares Estimated\n"
     ]
    }
   ],
   "source": [
    "# Fill the na values in Fare based on embarked data\n",
    "embarked = ['S', 'C', 'Q']\n",
    "for port in embarked:\n",
    "    fare_to_impute = df_data.groupby('Embarked')['Fare'].median()[embarked.index(port)]\n",
    "    df_data.loc[(df_data['Fare'].isnull()) & (df_data['Embarked'] == port), 'Fare'] = fare_to_impute\n",
    "# Fare in df_train and df_test:\n",
    "df_train[\"Fare\"] = df_data['Fare'][:891]\n",
    "df_test[\"Fare\"] = df_data['Fare'][891:]\n",
    "print('Missing Fares Estimated')"
   ]
  },
  {
   "cell_type": "markdown",
   "metadata": {
    "_cell_guid": "58556287-b706-46e8-9e8f-e9289cb0f62d",
    "_uuid": "085e8bc212ff7478117381b570b32a048d69927b"
   },
   "source": [
    "## FareBand feature"
   ]
  },
  {
   "cell_type": "code",
   "execution_count": 20,
   "metadata": {
    "_cell_guid": "f7b6005b-a173-421c-ac94-ac2f14c9c183",
    "_uuid": "97b3eec73c454f13d81e0ae1c641fcb2e29f2318",
    "scrolled": true
   },
   "outputs": [
    {
     "name": "stdout",
     "output_type": "stream",
     "text": [
      "FareBand feature created\n"
     ]
    }
   ],
   "source": [
    "#fill in missing Fare value in training set based on mean fare for that Pclass \n",
    "for x in range(len(df_train[\"Fare\"])):\n",
    "    if pd.isnull(df_train[\"Fare\"][x]):\n",
    "        pclass = df_train[\"Pclass\"][x] #Pclass = 3\n",
    "        df_train[\"Fare\"][x] = round(df_train[df_train[\"Pclass\"] == pclass][\"Fare\"].mean(), 8)\n",
    "        \n",
    "#fill in missing Fare value in test set based on mean fare for that Pclass         \n",
    "for x in range(len(df_test[\"Fare\"])):\n",
    "    if pd.isnull(df_test[\"Fare\"][x]):\n",
    "        pclass = df_test[\"Pclass\"][x] #Pclass = 3\n",
    "        df_test[\"Fare\"][x] = round(df_test[df_test[\"Pclass\"] == pclass][\"Fare\"].mean(), 8)\n",
    "        \n",
    "#map Fare values into groups of numerical values\n",
    "df_data[\"FareBand\"] = pd.qcut(df_data['Fare'], 8, labels = [1, 2, 3, 4,5,6,7,8]).astype('int')\n",
    "df_train[\"FareBand\"] = pd.qcut(df_train['Fare'], 8, labels = [1, 2, 3, 4,5,6,7,8]).astype('int')\n",
    "df_test[\"FareBand\"] = pd.qcut(df_test['Fare'], 8, labels = [1, 2, 3, 4,5,6,7,8]).astype('int')\n",
    "df_train[[\"FareBand\", \"Survived\"]].groupby([\"FareBand\"], as_index=False).mean()\n",
    "print('FareBand feature created')"
   ]
  },
  {
   "cell_type": "markdown",
   "metadata": {
    "_cell_guid": "b872a2c8-166d-4e3c-842d-cb05d0dbe026",
    "_uuid": "667caecad9a8266c354211a559f109cc8045eab9"
   },
   "source": [
    "## Embarked Feature"
   ]
  },
  {
   "cell_type": "code",
   "execution_count": 21,
   "metadata": {
    "_cell_guid": "6562ae96-2a2c-475c-910b-26ee2aacb98e",
    "_uuid": "88e9ea060f910b0e6372e50c4e19adb406da6275"
   },
   "outputs": [
    {
     "name": "stdout",
     "output_type": "stream",
     "text": [
      "Embarked feature created\n"
     ]
    },
    {
     "data": {
      "text/html": [
       "<div>\n",
       "<style scoped>\n",
       "    .dataframe tbody tr th:only-of-type {\n",
       "        vertical-align: middle;\n",
       "    }\n",
       "\n",
       "    .dataframe tbody tr th {\n",
       "        vertical-align: top;\n",
       "    }\n",
       "\n",
       "    .dataframe thead th {\n",
       "        text-align: right;\n",
       "    }\n",
       "</style>\n",
       "<table border=\"1\" class=\"dataframe\">\n",
       "  <thead>\n",
       "    <tr style=\"text-align: right;\">\n",
       "      <th></th>\n",
       "      <th>Embarked</th>\n",
       "      <th>Survived</th>\n",
       "    </tr>\n",
       "  </thead>\n",
       "  <tbody>\n",
       "    <tr>\n",
       "      <th>0</th>\n",
       "      <td>1.0</td>\n",
       "      <td>0.336957</td>\n",
       "    </tr>\n",
       "    <tr>\n",
       "      <th>1</th>\n",
       "      <td>2.0</td>\n",
       "      <td>0.553571</td>\n",
       "    </tr>\n",
       "    <tr>\n",
       "      <th>2</th>\n",
       "      <td>3.0</td>\n",
       "      <td>0.389610</td>\n",
       "    </tr>\n",
       "  </tbody>\n",
       "</table>\n",
       "</div>"
      ],
      "text/plain": [
       "   Embarked  Survived\n",
       "0       1.0  0.336957\n",
       "1       2.0  0.553571\n",
       "2       3.0  0.389610"
      ]
     },
     "execution_count": 21,
     "metadata": {},
     "output_type": "execute_result"
    }
   ],
   "source": [
    "#map each Embarked value to a numerical value\n",
    "embarked_mapping = {\"S\": 1, \"C\": 2, \"Q\": 3}\n",
    "df_data[\"Embarked\"] = df_data[\"Embarked\"].map(embarked_mapping)\n",
    "# split Embanked into df_train and df_test:\n",
    "df_train[\"Embarked\"] = df_data[\"Embarked\"][:891]\n",
    "df_test[\"Embarked\"] = df_data[\"Embarked\"][891:]\n",
    "print('Embarked feature created')\n",
    "df_data[['Embarked', 'Survived']].groupby(['Embarked'], as_index=False).mean()"
   ]
  },
  {
   "cell_type": "markdown",
   "metadata": {
    "_cell_guid": "4820654b-3839-4a3b-9795-7edf8b8493ee",
    "_uuid": "03b822c2b89b94e3ce45d4882c38956a99144696"
   },
   "source": [
    "## Estimate missing Embarkation Data"
   ]
  },
  {
   "cell_type": "code",
   "execution_count": 22,
   "metadata": {
    "_cell_guid": "f0e3a8b6-d72f-41fd-81c7-7cbd71a859cf",
    "_uuid": "fa51fe14a830486e1ed5c23e4fe320f1a3392172"
   },
   "outputs": [
    {
     "name": "stdout",
     "output_type": "stream",
     "text": [
      "Missing Embarkation Estimated\n"
     ]
    }
   ],
   "source": [
    "# Fill the na values in Embanked based on fareband data\n",
    "fareband = [1,2,3,4]\n",
    "for fare in fareband:\n",
    "    embark_to_impute = df_data.groupby('FareBand')['Embarked'].median()[fare]\n",
    "    df_data.loc[(df_data['Embarked'].isnull()) & (df_data['FareBand'] == fare), 'Embarked'] = embark_to_impute\n",
    "# Fare in df_train and df_test:\n",
    "df_train[\"Embarked\"] = df_data['Embarked'][:891]\n",
    "df_test[\"Embarked\"] = df_data['Embarked'][891:]\n",
    "print('Missing Embarkation Estimated')"
   ]
  },
  {
   "cell_type": "markdown",
   "metadata": {
    "_cell_guid": "42133e77-1cd1-416d-9100-7479a80b1d89",
    "_uuid": "873300197bc688e1350aaf8fe230ad8c57d1c222"
   },
   "source": [
    "##  Gender Feature"
   ]
  },
  {
   "cell_type": "code",
   "execution_count": 23,
   "metadata": {
    "_cell_guid": "23e16cb2-8bf9-4904-b9db-9304368cc857",
    "_uuid": "d1b98799dea36fd35ebd29efdb9cf71b72aa0fae"
   },
   "outputs": [
    {
     "name": "stdout",
     "output_type": "stream",
     "text": [
      "Gender Feature added \n"
     ]
    }
   ],
   "source": [
    "# convert categories to Columns\n",
    "dummies=pd.get_dummies(df_train[['Sex']], prefix_sep='_') #Gender\n",
    "df_train = pd.concat([df_train, dummies], axis=1) \n",
    "testdummies=pd.get_dummies(df_test[['Sex']], prefix_sep='_') #Gender\n",
    "df_test = pd.concat([df_test, testdummies], axis=1) \n",
    "print('Gender Feature added ')"
   ]
  },
  {
   "cell_type": "code",
   "execution_count": 24,
   "metadata": {
    "_cell_guid": "b4a970b2-3eda-466f-bf17-64998499ef38",
    "_uuid": "922c7dad035637b126e82c3d2f929cef696a642d"
   },
   "outputs": [
    {
     "name": "stdout",
     "output_type": "stream",
     "text": [
      "Gender Category created\n"
     ]
    }
   ],
   "source": [
    "#map each Gendre value to a numerical value\n",
    "gender_mapping = {\"female\": 0, \"male\": 1}\n",
    "df_data[\"Sex\"] = df_data['Sex'].map(gender_mapping)\n",
    "df_data[\"Sex\"]=df_data[\"Sex\"].astype('int')\n",
    "\n",
    "# Family_Survival in TRAIN_DF and TEST_DF:\n",
    "df_train[\"Sex\"] = df_data[\"Sex\"][:891]\n",
    "df_test[\"Sex\"] = df_data[\"Sex\"][891:]\n",
    "print('Gender Category created')"
   ]
  },
  {
   "cell_type": "markdown",
   "metadata": {
    "_cell_guid": "29bec7eb-8b58-43b1-9a18-72aff67e10e5",
    "_uuid": "d6f13d0dda22e4389dedb9f188878897c518ceab"
   },
   "source": [
    "## Name Length"
   ]
  },
  {
   "cell_type": "code",
   "execution_count": 25,
   "metadata": {
    "_cell_guid": "b5685ab4-35d4-4e99-b161-5968d42fd741",
    "_uuid": "49a521117a7fddb2322e8428fc7d01f788d0110c",
    "scrolled": true
   },
   "outputs": [
    {
     "name": "stdout",
     "output_type": "stream",
     "text": [
      "Name Length calculated\n",
      "Name Length categories created\n"
     ]
    },
    {
     "data": {
      "text/plain": [
       "(11.999, 19.0]    204\n",
       "(23.0, 27.0]      197\n",
       "(32.0, 82.0]      169\n",
       "(27.0, 32.0]      165\n",
       "(19.0, 23.0]      156\n",
       "Name: NameLen, dtype: int64"
      ]
     },
     "execution_count": 25,
     "metadata": {},
     "output_type": "execute_result"
    }
   ],
   "source": [
    "df_data['NameLen'] = df_data['Name'].apply(lambda x: len(x))\n",
    "print('Name Length calculated')\n",
    "\n",
    "# split to test and training\n",
    "df_train[\"NameLen\"] = df_data[\"NameLen\"][:891]\n",
    "df_test[\"NameLen\"] = df_data[\"NameLen\"][891:]\n",
    "\n",
    "df_train[\"NameBand\"] = pd.cut(df_train[\"NameLen\"], bins=5, labels = [1,2,3,4,5])\n",
    "df_test[\"NameBand\"] = pd.cut(df_test[\"NameLen\"], bins=5, labels = [1,2,3,4,5])\n",
    "\n",
    "# convert AgeGroup categories to Columns\n",
    "dummies=pd.get_dummies(df_train[[\"NameBand\"]].astype('category'), prefix_sep='_') #Embarked\n",
    "df_train = pd.concat([df_train, dummies], axis=1) \n",
    "dummies=pd.get_dummies(df_test[[\"NameBand\"]].astype('category'), prefix_sep='_') #Embarked\n",
    "df_test = pd.concat([df_test, dummies], axis=1)\n",
    "print(\"Name Length categories created\")\n",
    "\n",
    "pd.qcut(df_train['NameLen'],5).value_counts()"
   ]
  },
  {
   "cell_type": "markdown",
   "metadata": {
    "_cell_guid": "73a1e1f3-0c5e-42cc-8cf8-00cecd7d3721",
    "_uuid": "ba21b6f61bafeb38d67a873ac096c91b734d39b5"
   },
   "source": [
    "## Title Feature"
   ]
  },
  {
   "cell_type": "code",
   "execution_count": 26,
   "metadata": {
    "_cell_guid": "a87030f8-df3f-4e9d-ad2a-3605d3b20b0b",
    "_uuid": "37e03baec88e410f0b920fe9e9c77b9ccfdba5d9"
   },
   "outputs": [
    {
     "name": "stdout",
     "output_type": "stream",
     "text": [
      "Title categories added\n"
     ]
    }
   ],
   "source": [
    "#Get titles\n",
    "df_data[\"Title\"] = df_data.Name.str.extract(' ([A-Za-z]+)\\.', expand=False)\n",
    "\n",
    "#Unify common titles. \n",
    "df_data[\"Title\"] = df_data[\"Title\"].replace('Mlle', 'Miss')\n",
    "df_data[\"Title\"] = df_data[\"Title\"].replace('Master', 'Master')\n",
    "df_data[\"Title\"] = df_data[\"Title\"].replace(['Mme', 'Dona', 'Ms'], 'Mrs')\n",
    "df_data[\"Title\"] = df_data[\"Title\"].replace(['Jonkheer','Don'],'Mr')\n",
    "df_data[\"Title\"] = df_data[\"Title\"].replace(['Capt','Major', 'Col','Rev','Dr'], 'Millitary')\n",
    "df_data[\"Title\"] = df_data[\"Title\"].replace(['Lady', 'Countess','Sir'], 'Honor')\n",
    "\n",
    "# Age in df_train and df_test:\n",
    "df_train[\"Title\"] = df_data['Title'][:891]\n",
    "df_test[\"Title\"] = df_data['Title'][891:]\n",
    "\n",
    "# convert Title categories to Columns\n",
    "titledummies=pd.get_dummies(df_train[['Title']], prefix_sep='_') #Title\n",
    "df_train = pd.concat([df_train, titledummies], axis=1) \n",
    "ttitledummies=pd.get_dummies(df_test[['Title']], prefix_sep='_') #Title\n",
    "df_test = pd.concat([df_test, ttitledummies], axis=1) \n",
    "print('Title categories added')"
   ]
  },
  {
   "cell_type": "markdown",
   "metadata": {
    "_cell_guid": "6e8ddee2-7992-47e4-acaf-ada16fc2f3fb",
    "_uuid": "ce0d55f3dc2247dd4403522bedf6ede3c9929c51"
   },
   "source": [
    "## Title Cetegory"
   ]
  },
  {
   "cell_type": "code",
   "execution_count": 27,
   "metadata": {
    "_cell_guid": "25b58c33-0bb0-4140-b5d2-00db768a0847",
    "_uuid": "1841f1df481ac13a11bc86683bef65b53d49afd0"
   },
   "outputs": [
    {
     "name": "stdout",
     "output_type": "stream",
     "text": [
      "Title Category created\n"
     ]
    }
   ],
   "source": [
    "# Mapping titles\n",
    "title_mapping = {\"Mr\": 1, \"Miss\": 2, \"Mrs\": 3, \"Master\": 4, \"Millitary\": 5, \"Honor\": 6}\n",
    "df_data[\"TitleCat\"] = df_data['Title'].map(title_mapping)\n",
    "df_data[\"TitleCat\"] = df_data[\"TitleCat\"].astype(int)\n",
    "df_train[\"TitleCat\"] = df_data[\"TitleCat\"][:891]\n",
    "df_test[\"TitleCat\"] = df_data[\"TitleCat\"][891:]\n",
    "print('Title Category created')"
   ]
  },
  {
   "cell_type": "markdown",
   "metadata": {
    "_cell_guid": "5b65087f-6961-48cc-aefe-0deb4a9b1e83",
    "_uuid": "2bb8ee7bb6ee3f6bc3a9f5fc5d3758f40396ca4e"
   },
   "source": [
    "## Fill age based on title"
   ]
  },
  {
   "cell_type": "code",
   "execution_count": 28,
   "metadata": {
    "_cell_guid": "65f34a17-e349-4f58-a0de-5bbdb8516c4d",
    "_uuid": "4c138ced404146c2b4bd2f0e5fdf3d9cd7701531"
   },
   "outputs": [
    {
     "name": "stdout",
     "output_type": "stream",
     "text": [
      "Missing Ages Estimated\n"
     ]
    }
   ],
   "source": [
    "titles = ['Master', 'Miss', 'Mr', 'Mrs', 'Millitary','Honor']\n",
    "for title in titles:\n",
    "    age_to_impute = df_data.groupby('Title')['Age'].median()[title]\n",
    "    df_data.loc[(df_data['Age'].isnull()) & (df_data['Title'] == title), 'Age'] = age_to_impute\n",
    "# Age in df_train and df_test:\n",
    "df_train[\"Age\"] = df_data['Age'][:891]\n",
    "df_test[\"Age\"] = df_data['Age'][891:]\n",
    "print('Missing Ages Estimated')"
   ]
  },
  {
   "cell_type": "markdown",
   "metadata": {
    "_cell_guid": "005d5aa4-3bee-48ab-b3b4-17ba672a56a1",
    "_uuid": "294626f5dc7d074884a1234a07ca0516a647a8c0",
    "collapsed": true
   },
   "source": [
    "## Create AgeBands"
   ]
  },
  {
   "cell_type": "code",
   "execution_count": 29,
   "metadata": {
    "_cell_guid": "bf8e352d-a753-420a-a172-7a77a6348c6e",
    "_uuid": "d91733b91b7787e5562c21b7d3a1a6061a492edc"
   },
   "outputs": [
    {
     "name": "stdout",
     "output_type": "stream",
     "text": [
      "Age Feature created\n",
      "AgeBand feature created\n"
     ]
    }
   ],
   "source": [
    "# sort Age into band categories\n",
    "bins = [0,12,24,45,60,np.inf]\n",
    "labels = ['Child', 'Young Adult', 'Adult','Older Adult','Senior']\n",
    "df_train[\"AgeBand\"] = pd.cut(df_train[\"Age\"], bins, labels = labels)\n",
    "df_test[\"AgeBand\"] = pd.cut(df_test[\"Age\"], bins, labels = labels)\n",
    "print('Age Feature created')\n",
    "\n",
    "# convert AgeGroup categories to Columns\n",
    "dummies=pd.get_dummies(df_train[[\"AgeBand\"]], prefix_sep='_') #Embarked\n",
    "df_train = pd.concat([df_train, dummies], axis=1) \n",
    "dummies=pd.get_dummies(df_test[[\"AgeBand\"]], prefix_sep='_') #Embarked\n",
    "df_test = pd.concat([df_test, dummies], axis=1)\n",
    "print('AgeBand feature created')"
   ]
  },
  {
   "cell_type": "markdown",
   "metadata": {
    "_cell_guid": "278791f7-2e30-4e9e-aced-7646350993e7",
    "_uuid": "88c9f8d7fb1a843d36fbb7f60c19d2bfcb57364e",
    "collapsed": true
   },
   "source": [
    "## Visualize Age Data"
   ]
  },
  {
   "cell_type": "code",
   "execution_count": 30,
   "metadata": {
    "_cell_guid": "46310750-e237-42ed-8fb4-8e397ed8021e",
    "_uuid": "b43d90e1336791cbb92814d9c76b1038f3efc2e1"
   },
   "outputs": [
    {
     "data": {
      "text/plain": [
       "<seaborn.axisgrid.FacetGrid at 0x20d30526be0>"
      ]
     },
     "execution_count": 30,
     "metadata": {},
     "output_type": "execute_result"
    },
    {
     "data": {
      "image/png": "[encoded data removed]",
      "text/plain": [
       "<matplotlib.figure.Figure at 0x20d306a0cc0>"
      ]
     },
     "metadata": {},
     "output_type": "display_data"
    },
    {
     "data": {
      "image/png": "[encoded data removed]",
      "text/plain": [
       "<matplotlib.figure.Figure at 0x20d305b4e48>"
      ]
     },
     "metadata": {},
     "output_type": "display_data"
    }
   ],
   "source": [
    "# Visualise Age Data \n",
    "fig, (axis1,axis2) = plt.subplots(1,2,figsize=(15,4))\n",
    "axis1.set_title('Training Age values - Titanic')\n",
    "axis2.set_title('Test Age values - Titanic')\n",
    "\n",
    "# plot original Age values\n",
    "df_train['Age'].dropna().astype(int).hist(bins=70, ax=axis1)\n",
    "#df_test['Age'].dropna().astype(int).hist(bins=70, ax=axis1)\n",
    "        \n",
    "# plot new Age Values\n",
    "#df_train['Age'].hist(bins=70, ax=axis2)\n",
    "df_test['Age'].hist(bins=70, ax=axis2)\n",
    "\n",
    "# peaks for survived/not survived passengers by their age\n",
    "facet = sns.FacetGrid(df_train, hue=\"Survived\",palette = 'seismic',aspect=4)\n",
    "facet.map(sns.kdeplot,'Age',shade= True)\n",
    "facet.set(xlim=(0, df_train['Age'].max()))\n",
    "facet.add_legend()"
   ]
  },
  {
   "cell_type": "code",
   "execution_count": 32,
   "metadata": {
    "_cell_guid": "b1d61706-8a04-472c-afcb-4c5bc1cff3b8",
    "_uuid": "4db2538017a5dffd13828396d702fc1466cb0c7f"
   },
   "outputs": [],
   "source": [
    "sns.boxplot(data = df_train, x = \"Title\", y = \"Age\");"
   ]
  },
  {
   "cell_type": "markdown",
   "metadata": {
    "_cell_guid": "7d1d8177-c410-40ac-bcc4-3a8a7655a607",
    "_uuid": "b8bd16e435f03db3e0be3e0e38b4d011c571dc98"
   },
   "source": [
    "## Lone Travellers Feature "
   ]
  },
  {
   "cell_type": "code",
   "execution_count": 31,
   "metadata": {
    "_cell_guid": "a5e8b97a-c1a0-46a3-ab72-20c9f316fe39",
    "_uuid": "94804f474da36936590adebe2bd836c3425dbc05"
   },
   "outputs": [
    {
     "name": "stdout",
     "output_type": "stream",
     "text": [
      "Lone traveller feature created\n"
     ]
    }
   ],
   "source": [
    "df_train[\"Alone\"] = np.where(df_train['SibSp'] + df_train['Parch'] + 1 == 1, 1,0) # People travelling alone\n",
    "df_test[\"Alone\"] = np.where(df_test['SibSp'] + df_test['Parch'] + 1 == 1, 1,0) # People travelling alone\n",
    "print('Lone traveller feature created')"
   ]
  },
  {
   "cell_type": "markdown",
   "metadata": {
    "_cell_guid": "d33cb358-28e2-4b94-a5bd-895611d96e5d",
    "_uuid": "49125b4d1e12f6ecaf2b999877d2e85fb6809650"
   },
   "source": [
    "## Mother"
   ]
  },
  {
   "cell_type": "code",
   "execution_count": 32,
   "metadata": {
    "_cell_guid": "03e959a6-e231-41f5-817e-d8224f41184a",
    "_uuid": "36d70c77a607636b2a26df8a4542f97b8c69da91"
   },
   "outputs": [
    {
     "name": "stdout",
     "output_type": "stream",
     "text": [
      "Mother Category created\n"
     ]
    }
   ],
   "source": [
    "df_data['Mother'] = (df_data['Title'] == 'Mrs') & (df_data['Parch'] > 0)\n",
    "df_data['Mother'] = df_data['Mother'].astype(int)\n",
    "\n",
    "df_train[\"Mother\"] = df_data[\"Mother\"][:891]\n",
    "df_test[\"Mother\"] = df_data[\"Mother\"][891:]\n",
    "print('Mother Category created')"
   ]
  },
  {
   "cell_type": "markdown",
   "metadata": {
    "_cell_guid": "48736798-d8b0-4c4f-80ea-c767ddf45cb3",
    "_uuid": "bdc2b37c4ed4794c74e5e1e8a8be30cd0482ad1a"
   },
   "source": [
    "## Family Size Feature"
   ]
  },
  {
   "cell_type": "code",
   "execution_count": 33,
   "metadata": {
    "_cell_guid": "af0da412-4654-402e-a7cf-66f06a2c26f0",
    "_uuid": "b28edbd85b8a8f9711629ce170051e79c11fbff1"
   },
   "outputs": [
    {
     "name": "stdout",
     "output_type": "stream",
     "text": [
      "Family size feature created\n"
     ]
    }
   ],
   "source": [
    "df_train[\"Family Size\"] = (df_train['SibSp'] + df_train['Parch'] + 1)\n",
    "df_test[\"Family Size\"] = df_test['SibSp'] + df_test['Parch'] + 1\n",
    "print('Family size feature created')"
   ]
  },
  {
   "cell_type": "markdown",
   "metadata": {
    "_cell_guid": "f4f8b2cf-5e1f-4516-96fa-b4684b54ea93",
    "_uuid": "5ef2960e91f503ce9ae5ef96f4b04909f74d6bd6"
   },
   "source": [
    "## Family Survival"
   ]
  },
  {
   "cell_type": "code",
   "execution_count": 34,
   "metadata": {
    "_cell_guid": "d2c8840b-3550-4905-ba71-df5bc9567892",
    "_uuid": "efd286c6c48091714b8a51d6aa4a4577c5b9bdfd"
   },
   "outputs": [
    {
     "name": "stdout",
     "output_type": "stream",
     "text": [
      "Number of passengers with family survival information: 420\n",
      "Number of passenger with family/group survival information: 546\n"
     ]
    }
   ],
   "source": [
    "# get last name\n",
    "df_data[\"Last_Name\"] = df_data['Name'].apply(lambda x: str.split(x, \",\")[0])\n",
    "# Set survival value\n",
    "DEFAULT_SURVIVAL_VALUE = 0.5\n",
    "df_data[\"Family_Survival\"] = DEFAULT_SURVIVAL_VALUE\n",
    "\n",
    "# Find Family groups by Fare\n",
    "for grp, grp_df in df_data[['Survived','Name', 'Last_Name', 'Fare', 'Ticket', 'PassengerId',\n",
    "                           'SibSp', 'Parch', 'Age', 'Cabin']].groupby(['Last_Name', 'Fare']):\n",
    "    \n",
    "    if (len(grp_df) != 1):\n",
    "        # A Family group is found.\n",
    "        for ind, row in grp_df.iterrows():\n",
    "            smax = grp_df.drop(ind)['Survived'].max()\n",
    "            smin = grp_df.drop(ind)['Survived'].min()\n",
    "            passID = row['PassengerId']\n",
    "            if (smax == 1.0):\n",
    "                df_data.loc[df_data['PassengerId'] == passID, 'Family_Survival'] = 1\n",
    "            elif (smin==0.0):\n",
    "                df_data.loc[df_data['PassengerId'] == passID, 'Family_Survival'] = 0\n",
    "\n",
    "print(\"Number of passengers with family survival information:\", \n",
    "      df_data.loc[df_data['Family_Survival']!=0.5].shape[0])\n",
    "\n",
    "# Find Family groups by Ticket\n",
    "for _, grp_df in df_data.groupby('Ticket'):\n",
    "    if (len(grp_df) != 1):\n",
    "        for ind, row in grp_df.iterrows():\n",
    "            if (row['Family_Survival'] == 0) | (row['Family_Survival']== 0.5):\n",
    "                smax = grp_df.drop(ind)['Survived'].max()\n",
    "                smin = grp_df.drop(ind)['Survived'].min()\n",
    "                passID = row['PassengerId']\n",
    "                if (smax == 1.0):\n",
    "                    df_data.loc[df_data['PassengerId'] == passID, 'Family_Survival'] = 1\n",
    "                elif (smin==0.0):\n",
    "                    df_data.loc[df_data['PassengerId'] == passID, 'Family_Survival'] = 0\n",
    "                        \n",
    "print(\"Number of passenger with family/group survival information: \" \n",
    "      +str(df_data[df_data['Family_Survival']!=0.5].shape[0]))\n",
    "\n",
    "# Family_Survival in df_train and df_test:\n",
    "df_train[\"Family_Survival\"] = df_data['Family_Survival'][:891]\n",
    "df_test[\"Family_Survival\"] = df_data['Family_Survival'][891:]"
   ]
  },
  {
   "cell_type": "markdown",
   "metadata": {
    "_cell_guid": "0069ade8-2b34-4be3-8ebe-a29f6b396283",
    "_uuid": "821395bd7d2b3435f2476723067d04fdeaf1a31d"
   },
   "source": [
    "## Cabin feature"
   ]
  },
  {
   "cell_type": "code",
   "execution_count": 35,
   "metadata": {
    "_cell_guid": "cdf5b923-4275-4bb8-a812-58e385c67184",
    "_uuid": "9106eaa1504c1be04bc5155fb79711f50e70a477"
   },
   "outputs": [
    {
     "name": "stdout",
     "output_type": "stream",
     "text": [
      "Cabin feature created\n"
     ]
    }
   ],
   "source": [
    "# check if cabin inf exists\n",
    "df_data[\"HadCabin\"] = (df_data[\"Cabin\"].notnull().astype('int'))\n",
    "# split Embanked into df_train and df_test:\n",
    "df_train[\"HadCabin\"] = df_data[\"HadCabin\"][:891]\n",
    "df_test[\"HadCabin\"] = df_data[\"HadCabin\"][891:]\n",
    "print('Cabin feature created')"
   ]
  },
  {
   "cell_type": "markdown",
   "metadata": {
    "_cell_guid": "6350ce16-49ab-49ee-b608-08c564ac7fb6",
    "_uuid": "829d4586ba6fe716f51296025cc29aab8692b47b"
   },
   "source": [
    "## Ticket feature"
   ]
  },
  {
   "cell_type": "code",
   "execution_count": 38,
   "metadata": {
    "_cell_guid": "e911fdda-bc54-43c7-b406-90cc5d3dcf9e",
    "_uuid": "63c13165a9d5762d6ad49334226f10692ca0af49"
   },
   "outputs": [
    {
     "name": "stdout",
     "output_type": "stream",
     "text": [
      "Ticket feature created\n"
     ]
    }
   ],
   "source": [
    "## Treat Ticket by extracting the ticket prefix. When there is no prefix it returns X. \n",
    "\n",
    "Ticket = []\n",
    "for i in list(df_data.Ticket):\n",
    "    if not i.isdigit() :\n",
    "        Ticket.append(i.replace(\".\",\"\").replace(\"/\",\"\").strip().split(' ')[0]) #Take prefix\n",
    "    else:\n",
    "        Ticket.append(\"X\")\n",
    "        \n",
    "df_data[\"Ticket\"] = Ticket\n",
    "df_data[\"Ticket\"].head()\n",
    "\n",
    "df_train[\"Ticket\"] = df_data[\"Ticket\"][:891]\n",
    "df_test[\"Ticket\"] = df_data[\"Ticket\"][891:]\n",
    "print('Ticket feature created')"
   ]
  },
  {
   "cell_type": "markdown",
   "metadata": {
    "_cell_guid": "f0e20b74-3cda-4122-9e35-9dc7b7fbf46a",
    "_uuid": "63284dc7ed668a0675b6cdd7de8a7b137f7477e9"
   },
   "source": [
    "## Free Passage\n",
    "There are some fares that are zero. Since most of the are men I guess that could be crew."
   ]
  },
  {
   "cell_type": "code",
   "execution_count": 41,
   "metadata": {
    "_cell_guid": "368d1f69-a4b7-474b-95e1-77fb3ce321ac",
    "_uuid": "bfa77a0ca5638b1ade7493f4268578819e2ce1ee"
   },
   "outputs": [
    {
     "name": "stdout",
     "output_type": "stream",
     "text": [
      "Free Category created\n"
     ]
    }
   ],
   "source": [
    "# create free feature based on fare = 0 \n",
    "df_data[\"Free\"] = np.where(df_data['Fare'] ==0, 1,0)\n",
    "df_data[\"Free\"] = df_data['Free'].astype(int)\n",
    "\n",
    "df_train[\"Free\"] = df_data[\"Free\"][:891]\n",
    "df_test[\"Free\"] = df_data[\"Free\"][891:]\n",
    "print('Free Category created')"
   ]
  },
  {
   "cell_type": "markdown",
   "metadata": {
    "_cell_guid": "c6e98217-e9c5-41b7-b792-15035ec18c0c",
    "_uuid": "e6dcd7a2aaeb580ba8482d41d8599468ecd4b927"
   },
   "source": [
    "## FareBand"
   ]
  },
  {
   "cell_type": "code",
   "execution_count": 42,
   "metadata": {
    "_cell_guid": "e4374ba0-9cb5-4826-b826-7ce966c062f7",
    "_uuid": "60efe33e814b836e8997d62d316380bc0de5fe58"
   },
   "outputs": [
    {
     "name": "stdout",
     "output_type": "stream",
     "text": [
      "Fareband categories created\n"
     ]
    }
   ],
   "source": [
    "Pclass = [1,2,3]\n",
    "for aclass in Pclass:\n",
    "    fare_to_impute = df_data.groupby('Pclass')['Fare'].median()[aclass]\n",
    "    df_data.loc[(df_data['Fare'].isnull()) & (df_data['Pclass'] == aclass), 'Fare'] = fare_to_impute\n",
    "        \n",
    "df_train[\"Fare\"] = df_data[\"Fare\"][:891]\n",
    "df_test[\"Fare\"] = df_data[\"Fare\"][891:]        \n",
    "\n",
    "#map Fare values into groups of numerical values\n",
    "df_train[\"FareBand\"] = pd.qcut(df_train['Fare'], 4, labels = [1, 2, 3, 4]).astype('category')\n",
    "df_test[\"FareBand\"] = pd.qcut(df_test['Fare'], 4, labels = [1, 2, 3, 4]).astype('category')\n",
    "\n",
    "# convert FareBand categories to Columns\n",
    "dummies=pd.get_dummies(df_train[[\"FareBand\"]], prefix_sep='_') #Embarked\n",
    "df_train = pd.concat([df_train, dummies], axis=1) \n",
    "dummies=pd.get_dummies(df_test[[\"FareBand\"]], prefix_sep='_') #Embarked\n",
    "df_test = pd.concat([df_test, dummies], axis=1)\n",
    "print(\"Fareband categories created\")"
   ]
  },
  {
   "cell_type": "markdown",
   "metadata": {
    "_cell_guid": "a93abe26-c2af-43b5-a54a-c783a612a931",
    "_uuid": "5f1b6ffb552a69c959a609840fa868baa69f9650"
   },
   "source": [
    "## Missing Data"
   ]
  },
  {
   "cell_type": "code",
   "execution_count": 44,
   "metadata": {
    "_cell_guid": "c51d7f61-2358-4ea6-8b46-fda58f9135fc",
    "_uuid": "2cd217d4a38e136a9185c5311cd920355d40323e"
   },
   "outputs": [
    {
     "name": "stdout",
     "output_type": "stream",
     "text": [
      "46\n",
      "PassengerId              0\n",
      "Pclass                   0\n",
      "Name                     0\n",
      "Sex                      0\n",
      "Age                      0\n",
      "SibSp                    0\n",
      "Parch                    0\n",
      "Ticket                   0\n",
      "Fare                     0\n",
      "Cabin                  327\n",
      "Embarked                 0\n",
      "FareBand                 0\n",
      "Sex_female               0\n",
      "Sex_male                 0\n",
      "NameLen                  0\n",
      "NameBand                 0\n",
      "NameBand_1               0\n",
      "NameBand_2               0\n",
      "NameBand_3               0\n",
      "NameBand_4               0\n",
      "NameBand_5               0\n",
      "Title                    0\n",
      "Title_Master             0\n",
      "Title_Millitary          0\n",
      "Title_Miss               0\n",
      "Title_Mr                 0\n",
      "Title_Mrs                0\n",
      "TitleCat                 0\n",
      "AgeBand                  0\n",
      "AgeBand_Child            0\n",
      "AgeBand_Young Adult      0\n",
      "AgeBand_Adult            0\n",
      "AgeBand_Older Adult      0\n",
      "AgeBand_Senior           0\n",
      "Alone                    0\n",
      "Mother                   0\n",
      "Family Size              0\n",
      "Family_Survival          0\n",
      "HadCabin                 0\n",
      "Deck                     0\n",
      "TicketRef                0\n",
      "Free                     0\n",
      "FareBand_1               0\n",
      "FareBand_2               0\n",
      "FareBand_3               0\n",
      "FareBand_4               0\n",
      "dtype: int64\n"
     ]
    }
   ],
   "source": [
    "#check for any other unusable values\n",
    "print(len(df_test.columns))\n",
    "print(pd.isnull(df_test).sum())"
   ]
  },
  {
   "cell_type": "markdown",
   "metadata": {
    "_cell_guid": "b510aa95-ace2-46c1-a45e-bfef2bd966cc",
    "_uuid": "4b6d1483c18378c32e1f88f56836232dbe341863"
   },
   "source": [
    "## Statistical Overview"
   ]
  },
  {
   "cell_type": "code",
   "execution_count": 45,
   "metadata": {
    "_cell_guid": "ed4cdefb-de12-4f7b-98e5-b532bc2248ae",
    "_uuid": "db20ccbf0db2f0c3f47a31b7e759a80dbbcce155"
   },
   "outputs": [
    {
     "data": {
      "text/html": [
       "<div>\n",
       "<style scoped>\n",
       "    .dataframe tbody tr th:only-of-type {\n",
       "        vertical-align: middle;\n",
       "    }\n",
       "\n",
       "    .dataframe tbody tr th {\n",
       "        vertical-align: top;\n",
       "    }\n",
       "\n",
       "    .dataframe thead th {\n",
       "        text-align: right;\n",
       "    }\n",
       "</style>\n",
       "<table border=\"1\" class=\"dataframe\">\n",
       "  <thead>\n",
       "    <tr style=\"text-align: right;\">\n",
       "      <th></th>\n",
       "      <th>PassengerId</th>\n",
       "      <th>Survived</th>\n",
       "      <th>Pclass</th>\n",
       "      <th>Sex</th>\n",
       "      <th>Age</th>\n",
       "      <th>SibSp</th>\n",
       "      <th>Parch</th>\n",
       "      <th>Fare</th>\n",
       "      <th>Embarked</th>\n",
       "      <th>Sex_female</th>\n",
       "      <th>...</th>\n",
       "      <th>Mother</th>\n",
       "      <th>Family Size</th>\n",
       "      <th>Family_Survival</th>\n",
       "      <th>HadCabin</th>\n",
       "      <th>Deck</th>\n",
       "      <th>Free</th>\n",
       "      <th>FareBand_1</th>\n",
       "      <th>FareBand_2</th>\n",
       "      <th>FareBand_3</th>\n",
       "      <th>FareBand_4</th>\n",
       "    </tr>\n",
       "  </thead>\n",
       "  <tbody>\n",
       "    <tr>\n",
       "      <th>count</th>\n",
       "      <td>891.000000</td>\n",
       "      <td>891.000000</td>\n",
       "      <td>891.000000</td>\n",
       "      <td>891.000000</td>\n",
       "      <td>891.000000</td>\n",
       "      <td>891.000000</td>\n",
       "      <td>891.000000</td>\n",
       "      <td>891.000000</td>\n",
       "      <td>889.000000</td>\n",
       "      <td>891.000000</td>\n",
       "      <td>...</td>\n",
       "      <td>891.000000</td>\n",
       "      <td>891.000000</td>\n",
       "      <td>891.000000</td>\n",
       "      <td>891.000000</td>\n",
       "      <td>891.000000</td>\n",
       "      <td>891.000000</td>\n",
       "      <td>891.000000</td>\n",
       "      <td>891.000000</td>\n",
       "      <td>891.000000</td>\n",
       "      <td>891.000000</td>\n",
       "    </tr>\n",
       "    <tr>\n",
       "      <th>mean</th>\n",
       "      <td>446.000000</td>\n",
       "      <td>0.383838</td>\n",
       "      <td>2.308642</td>\n",
       "      <td>0.647587</td>\n",
       "      <td>29.302660</td>\n",
       "      <td>0.523008</td>\n",
       "      <td>0.381594</td>\n",
       "      <td>32.204208</td>\n",
       "      <td>1.362205</td>\n",
       "      <td>0.352413</td>\n",
       "      <td>...</td>\n",
       "      <td>0.062851</td>\n",
       "      <td>1.904602</td>\n",
       "      <td>0.519641</td>\n",
       "      <td>0.228956</td>\n",
       "      <td>0.648709</td>\n",
       "      <td>0.016835</td>\n",
       "      <td>0.250281</td>\n",
       "      <td>0.251403</td>\n",
       "      <td>0.249158</td>\n",
       "      <td>0.249158</td>\n",
       "    </tr>\n",
       "    <tr>\n",
       "      <th>std</th>\n",
       "      <td>257.353842</td>\n",
       "      <td>0.486592</td>\n",
       "      <td>0.836071</td>\n",
       "      <td>0.477990</td>\n",
       "      <td>13.240228</td>\n",
       "      <td>1.102743</td>\n",
       "      <td>0.806057</td>\n",
       "      <td>49.693429</td>\n",
       "      <td>0.636157</td>\n",
       "      <td>0.477990</td>\n",
       "      <td>...</td>\n",
       "      <td>0.242831</td>\n",
       "      <td>1.613459</td>\n",
       "      <td>0.323961</td>\n",
       "      <td>0.420397</td>\n",
       "      <td>1.376792</td>\n",
       "      <td>0.128725</td>\n",
       "      <td>0.433418</td>\n",
       "      <td>0.434063</td>\n",
       "      <td>0.432769</td>\n",
       "      <td>0.432769</td>\n",
       "    </tr>\n",
       "    <tr>\n",
       "      <th>min</th>\n",
       "      <td>1.000000</td>\n",
       "      <td>0.000000</td>\n",
       "      <td>1.000000</td>\n",
       "      <td>0.000000</td>\n",
       "      <td>0.420000</td>\n",
       "      <td>0.000000</td>\n",
       "      <td>0.000000</td>\n",
       "      <td>0.000000</td>\n",
       "      <td>1.000000</td>\n",
       "      <td>0.000000</td>\n",
       "      <td>...</td>\n",
       "      <td>0.000000</td>\n",
       "      <td>1.000000</td>\n",
       "      <td>0.000000</td>\n",
       "      <td>0.000000</td>\n",
       "      <td>0.000000</td>\n",
       "      <td>0.000000</td>\n",
       "      <td>0.000000</td>\n",
       "      <td>0.000000</td>\n",
       "      <td>0.000000</td>\n",
       "      <td>0.000000</td>\n",
       "    </tr>\n",
       "    <tr>\n",
       "      <th>25%</th>\n",
       "      <td>223.500000</td>\n",
       "      <td>0.000000</td>\n",
       "      <td>2.000000</td>\n",
       "      <td>0.000000</td>\n",
       "      <td>22.000000</td>\n",
       "      <td>0.000000</td>\n",
       "      <td>0.000000</td>\n",
       "      <td>7.910400</td>\n",
       "      <td>1.000000</td>\n",
       "      <td>0.000000</td>\n",
       "      <td>...</td>\n",
       "      <td>0.000000</td>\n",
       "      <td>1.000000</td>\n",
       "      <td>0.500000</td>\n",
       "      <td>0.000000</td>\n",
       "      <td>0.000000</td>\n",
       "      <td>0.000000</td>\n",
       "      <td>0.000000</td>\n",
       "      <td>0.000000</td>\n",
       "      <td>0.000000</td>\n",
       "      <td>0.000000</td>\n",
       "    </tr>\n",
       "    <tr>\n",
       "      <th>50%</th>\n",
       "      <td>446.000000</td>\n",
       "      <td>0.000000</td>\n",
       "      <td>3.000000</td>\n",
       "      <td>1.000000</td>\n",
       "      <td>29.000000</td>\n",
       "      <td>0.000000</td>\n",
       "      <td>0.000000</td>\n",
       "      <td>14.454200</td>\n",
       "      <td>1.000000</td>\n",
       "      <td>0.000000</td>\n",
       "      <td>...</td>\n",
       "      <td>0.000000</td>\n",
       "      <td>1.000000</td>\n",
       "      <td>0.500000</td>\n",
       "      <td>0.000000</td>\n",
       "      <td>0.000000</td>\n",
       "      <td>0.000000</td>\n",
       "      <td>0.000000</td>\n",
       "      <td>0.000000</td>\n",
       "      <td>0.000000</td>\n",
       "      <td>0.000000</td>\n",
       "    </tr>\n",
       "    <tr>\n",
       "      <th>75%</th>\n",
       "      <td>668.500000</td>\n",
       "      <td>1.000000</td>\n",
       "      <td>3.000000</td>\n",
       "      <td>1.000000</td>\n",
       "      <td>35.000000</td>\n",
       "      <td>1.000000</td>\n",
       "      <td>0.000000</td>\n",
       "      <td>31.000000</td>\n",
       "      <td>2.000000</td>\n",
       "      <td>1.000000</td>\n",
       "      <td>...</td>\n",
       "      <td>0.000000</td>\n",
       "      <td>2.000000</td>\n",
       "      <td>0.500000</td>\n",
       "      <td>0.000000</td>\n",
       "      <td>0.000000</td>\n",
       "      <td>0.000000</td>\n",
       "      <td>0.500000</td>\n",
       "      <td>1.000000</td>\n",
       "      <td>0.000000</td>\n",
       "      <td>0.000000</td>\n",
       "    </tr>\n",
       "    <tr>\n",
       "      <th>max</th>\n",
       "      <td>891.000000</td>\n",
       "      <td>1.000000</td>\n",
       "      <td>3.000000</td>\n",
       "      <td>1.000000</td>\n",
       "      <td>80.000000</td>\n",
       "      <td>8.000000</td>\n",
       "      <td>6.000000</td>\n",
       "      <td>512.329200</td>\n",
       "      <td>3.000000</td>\n",
       "      <td>1.000000</td>\n",
       "      <td>...</td>\n",
       "      <td>1.000000</td>\n",
       "      <td>11.000000</td>\n",
       "      <td>1.000000</td>\n",
       "      <td>1.000000</td>\n",
       "      <td>5.000000</td>\n",
       "      <td>1.000000</td>\n",
       "      <td>1.000000</td>\n",
       "      <td>1.000000</td>\n",
       "      <td>1.000000</td>\n",
       "      <td>1.000000</td>\n",
       "    </tr>\n",
       "  </tbody>\n",
       "</table>\n",
       "<p>8 rows × 40 columns</p>\n",
       "</div>"
      ],
      "text/plain": [
       "       PassengerId    Survived      Pclass         Sex         Age  \\\n",
       "count   891.000000  891.000000  891.000000  891.000000  891.000000   \n",
       "mean    446.000000    0.383838    2.308642    0.647587   29.302660   \n",
       "std     257.353842    0.486592    0.836071    0.477990   13.240228   \n",
       "min       1.000000    0.000000    1.000000    0.000000    0.420000   \n",
       "25%     223.500000    0.000000    2.000000    0.000000   22.000000   \n",
       "50%     446.000000    0.000000    3.000000    1.000000   29.000000   \n",
       "75%     668.500000    1.000000    3.000000    1.000000   35.000000   \n",
       "max     891.000000    1.000000    3.000000    1.000000   80.000000   \n",
       "\n",
       "            SibSp       Parch        Fare    Embarked  Sex_female     ...      \\\n",
       "count  891.000000  891.000000  891.000000  889.000000  891.000000     ...       \n",
       "mean     0.523008    0.381594   32.204208    1.362205    0.352413     ...       \n",
       "std      1.102743    0.806057   49.693429    0.636157    0.477990     ...       \n",
       "min      0.000000    0.000000    0.000000    1.000000    0.000000     ...       \n",
       "25%      0.000000    0.000000    7.910400    1.000000    0.000000     ...       \n",
       "50%      0.000000    0.000000   14.454200    1.000000    0.000000     ...       \n",
       "75%      1.000000    0.000000   31.000000    2.000000    1.000000     ...       \n",
       "max      8.000000    6.000000  512.329200    3.000000    1.000000     ...       \n",
       "\n",
       "           Mother  Family Size  Family_Survival    HadCabin        Deck  \\\n",
       "count  891.000000   891.000000       891.000000  891.000000  891.000000   \n",
       "mean     0.062851     1.904602         0.519641    0.228956    0.648709   \n",
       "std      0.242831     1.613459         0.323961    0.420397    1.376792   \n",
       "min      0.000000     1.000000         0.000000    0.000000    0.000000   \n",
       "25%      0.000000     1.000000         0.500000    0.000000    0.000000   \n",
       "50%      0.000000     1.000000         0.500000    0.000000    0.000000   \n",
       "75%      0.000000     2.000000         0.500000    0.000000    0.000000   \n",
       "max      1.000000    11.000000         1.000000    1.000000    5.000000   \n",
       "\n",
       "             Free  FareBand_1  FareBand_2  FareBand_3  FareBand_4  \n",
       "count  891.000000  891.000000  891.000000  891.000000  891.000000  \n",
       "mean     0.016835    0.250281    0.251403    0.249158    0.249158  \n",
       "std      0.128725    0.433418    0.434063    0.432769    0.432769  \n",
       "min      0.000000    0.000000    0.000000    0.000000    0.000000  \n",
       "25%      0.000000    0.000000    0.000000    0.000000    0.000000  \n",
       "50%      0.000000    0.000000    0.000000    0.000000    0.000000  \n",
       "75%      0.000000    0.500000    1.000000    0.000000    0.000000  \n",
       "max      1.000000    1.000000    1.000000    1.000000    1.000000  \n",
       "\n",
       "[8 rows x 40 columns]"
      ]
     },
     "execution_count": 45,
     "metadata": {},
     "output_type": "execute_result"
    }
   ],
   "source": [
    "df_train.describe()"
   ]
  },
  {
   "cell_type": "markdown",
   "metadata": {
    "_cell_guid": "1221771d-4505-4865-8efb-34bd9b643133",
    "_uuid": "f264ea422251e2c02721cd954e2df78c2006ad6a"
   },
   "source": [
    "# age "
   ]
  },
  {
   "cell_type": "code",
   "execution_count": 46,
   "metadata": {
    "_cell_guid": "16cbd148-bba4-479c-b12e-fd8e4f3d601d",
    "_uuid": "6316a37319e860411d240ee58e73fe977157a45b"
   },
   "outputs": [
    {
     "data": {
      "image/png": "[encoded data removed]",
      "text/plain": [
       "<matplotlib.figure.Figure at 0x20d30a77240>"
      ]
     },
     "metadata": {},
     "output_type": "display_data"
    }
   ],
   "source": [
    "# Groupby title\n",
    "df_train[['Title', 'Survived']].groupby(['Title'], as_index=False).mean()\n",
    "# plot age distribution by title\n",
    "facet = sns.FacetGrid(data = df_train, hue = \"Title\", legend_out=True, size = 5)\n",
    "facet = facet.map(sns.kdeplot, \"Age\")\n",
    "facet.add_legend();"
   ]
  },
  {
   "cell_type": "markdown",
   "metadata": {
    "_cell_guid": "6f24c55a-74e1-4789-b430-ebba2d2a234f",
    "_uuid": "cda5452db331d74e319c95053249adc2da8d4477"
   },
   "source": [
    "### Survival by FareBand and Gender "
   ]
  },
  {
   "cell_type": "code",
   "execution_count": 47,
   "metadata": {
    "_cell_guid": "34dc8d59-7425-492e-bb37-8d6856b27536",
    "_uuid": "2ab0e04ade741513a4a7792e6603ee82ef9a264c"
   },
   "outputs": [
    {
     "data": {
      "text/plain": [
       "<seaborn.axisgrid.FacetGrid at 0x20d30a83a58>"
      ]
     },
     "execution_count": 47,
     "metadata": {},
     "output_type": "execute_result"
    },
    {
     "data": {
      "image/png": "[encoded data removed]",
      "text/plain": [
       "<matplotlib.figure.Figure at 0x20d2fb369e8>"
      ]
     },
     "metadata": {},
     "output_type": "display_data"
    }
   ],
   "source": [
    "grid = sns.FacetGrid(df_train, col = \"FareBand\", row = \"Sex\", hue = \"Survived\", palette = 'seismic')\n",
    "grid = grid.map(plt.scatter, \"PassengerId\", \"Age\")\n",
    "grid.add_legend()\n",
    "grid"
   ]
  },
  {
   "cell_type": "markdown",
   "metadata": {
    "_cell_guid": "2ba192cc-6293-4050-a742-dcaa67b6416e",
    "_uuid": "2108bea0ee1fc9d83ad31a1a11f668bf2e24ee38"
   },
   "source": [
    "### Survival by Deck and Gender "
   ]
  },
  {
   "cell_type": "code",
   "execution_count": 48,
   "metadata": {
    "_cell_guid": "531add0d-4a07-4247-bda2-d07e42b85bef",
    "_uuid": "5e0b89f06bff8b5d647e6eb3743abc132c956d62"
   },
   "outputs": [
    {
     "data": {
      "text/plain": [
       "<seaborn.axisgrid.FacetGrid at 0x20d30f4a940>"
      ]
     },
     "execution_count": 48,
     "metadata": {},
     "output_type": "execute_result"
    },
    {
     "data": {
      "image/png": "[encoded data removed]",
      "text/plain": [
       "<matplotlib.figure.Figure at 0x20d30e90048>"
      ]
     },
     "metadata": {},
     "output_type": "display_data"
    }
   ],
   "source": [
    "grid = sns.FacetGrid(df_train, col = \"Deck\", row = \"Sex\", hue = \"Survived\", palette = 'seismic')\n",
    "grid = grid.map(plt.scatter, \"PassengerId\", \"Age\")\n",
    "grid.add_legend()\n",
    "grid"
   ]
  },
  {
   "cell_type": "markdown",
   "metadata": {
    "_cell_guid": "c6b6a59d-0d55-44f9-a5e4-3dbc78dd213b",
    "_uuid": "05756f61c82449b0a2804b940bc5c9b305e39040"
   },
   "source": [
    "### Survival by Family Size and Gender "
   ]
  },
  {
   "cell_type": "code",
   "execution_count": 49,
   "metadata": {
    "_cell_guid": "14a51b8e-7eea-49c3-91db-59aed6326ff2",
    "_uuid": "10b4e8ce607a6297500cc45ae72e1d1a59861bf4"
   },
   "outputs": [
    {
     "data": {
      "text/plain": [
       "<seaborn.axisgrid.FacetGrid at 0x20d30a5bba8>"
      ]
     },
     "execution_count": 49,
     "metadata": {},
     "output_type": "execute_result"
    },
    {
     "data": {
      "image/png": "[encoded data removed]",
      "text/plain": [
       "<matplotlib.figure.Figure at 0x20d30a5b4e0>"
      ]
     },
     "metadata": {},
     "output_type": "display_data"
    }
   ],
   "source": [
    "grid = sns.FacetGrid(df_train, col = \"Family Size\", row = \"Sex\", hue = \"Survived\", palette = 'seismic')\n",
    "grid = grid.map(plt.scatter, \"PassengerId\", \"Age\")\n",
    "grid.add_legend()\n",
    "grid"
   ]
  },
  {
   "cell_type": "markdown",
   "metadata": {
    "_cell_guid": "63efa126-2a01-4a30-8020-f1aa48110f06",
    "_uuid": "58021ef05643a0238b8d0d5432a7af4d9da7c357"
   },
   "source": [
    "### Survival by Passenger Class and Family Size"
   ]
  },
  {
   "cell_type": "code",
   "execution_count": 50,
   "metadata": {
    "_cell_guid": "5da3b70d-9889-4ce4-9ab7-999052e02b7b",
    "_uuid": "5862c89f842661813d0a9a3c55b1ace0d990ad2d"
   },
   "outputs": [
    {
     "data": {
      "image/png": "[encoded data removed]",
      "text/plain": [
       "<matplotlib.figure.Figure at 0x20d33246d68>"
      ]
     },
     "metadata": {},
     "output_type": "display_data"
    },
    {
     "data": {
      "image/png": "[encoded data removed]",
      "text/plain": [
       "<matplotlib.figure.Figure at 0x20d33282fd0>"
      ]
     },
     "metadata": {},
     "output_type": "display_data"
    },
    {
     "data": {
      "image/png": "[encoded data removed]",
      "text/plain": [
       "<matplotlib.figure.Figure at 0x20d33282c18>"
      ]
     },
     "metadata": {},
     "output_type": "display_data"
    }
   ],
   "source": [
    "fig, (axis1,axis2) = plt.subplots(1,2,figsize=(15,4))\n",
    "axis1.set_title('Training Age values - Titanic')\n",
    "axis2.set_title('Test Age values - Titanic')\n",
    "\n",
    "x1=df_train[df_train[\"Survived\"]==0]\n",
    "x2=df_train[df_train[\"Survived\"]==1]\n",
    "\n",
    "# Set up the matplotlib figure\n",
    "plt.figure(1)\n",
    "sns.jointplot(x=\"Family Size\", y=\"Pclass\", data=x1, kind=\"kde\", color='b');\n",
    "plt.figure(2)\n",
    "sns.jointplot(x=\"Family Size\", y=\"Pclass\", data=x2, kind=\"kde\", color='r');\n",
    "plt.show()"
   ]
  },
  {
   "cell_type": "markdown",
   "metadata": {
    "_cell_guid": "910ee13d-7181-4e07-9332-7fe0d4c96024",
    "_uuid": "77d6372808e34a2931e3ffac62880a590b0b1558"
   },
   "source": [
    "### Fare Jointplot "
   ]
  },
  {
   "cell_type": "code",
   "execution_count": 51,
   "metadata": {
    "_cell_guid": "90ba8a16-086c-4664-a812-a09e7755c1d1",
    "_uuid": "2fa46d8f2cd4229152dd1bf37bcaf4dbcd1aedf8"
   },
   "outputs": [
    {
     "data": {
      "text/plain": [
       "<seaborn.axisgrid.JointGrid at 0x20d339c6a90>"
      ]
     },
     "execution_count": 51,
     "metadata": {},
     "output_type": "execute_result"
    },
    {
     "data": {
      "image/png": "[encoded data removed]",
      "text/plain": [
       "<matplotlib.figure.Figure at 0x20d33217780>"
      ]
     },
     "metadata": {},
     "output_type": "display_data"
    },
    {
     "data": {
      "text/plain": [
       "<matplotlib.figure.Figure at 0x20d331b55f8>"
      ]
     },
     "metadata": {},
     "output_type": "display_data"
    },
    {
     "data": {
      "image/png": "[encoded data removed]",
      "text/plain": [
       "<matplotlib.figure.Figure at 0x20d339c6ac8>"
      ]
     },
     "metadata": {},
     "output_type": "display_data"
    }
   ],
   "source": [
    "sns.jointplot(data=x1, x='PassengerId', y='Age', kind='scatter',color='b')\n",
    "plt.figure(4)\n",
    "sns.jointplot(data=x2, x='PassengerId', y='Age', kind='scatter',color='r')\n",
    "# sns.plt.show()"
   ]
  },
  {
   "cell_type": "markdown",
   "metadata": {
    "_cell_guid": "9eb86bf1-2838-4aeb-8d63-21e2ec707dca",
    "_uuid": "70b77d246c62e356a9521f8602c844f8ac59c73b"
   },
   "source": [
    "# Re-train the model on new features"
   ]
  },
  {
   "cell_type": "code",
   "execution_count": 52,
   "metadata": {
    "_cell_guid": "cc55e96d-a719-4383-a1d5-9d1504733201",
    "_uuid": "493de5388b78f8a2b12b9d79ab9fbbadad7b9ad0"
   },
   "outputs": [
    {
     "data": {
      "text/plain": [
       "Index(['PassengerId', 'Survived', 'Pclass', 'Name', 'Sex', 'Age', 'SibSp',\n",
       "       'Parch', 'Ticket', 'Fare', 'Cabin', 'Embarked', 'FareBand',\n",
       "       'Sex_female', 'Sex_male', 'NameLen', 'NameBand', 'NameBand_1',\n",
       "       'NameBand_2', 'NameBand_3', 'NameBand_4', 'NameBand_5', 'Title',\n",
       "       'Title_Honor', 'Title_Master', 'Title_Millitary', 'Title_Miss',\n",
       "       'Title_Mr', 'Title_Mrs', 'TitleCat', 'AgeBand', 'AgeBand_Child',\n",
       "       'AgeBand_Young Adult', 'AgeBand_Adult', 'AgeBand_Older Adult',\n",
       "       'AgeBand_Senior', 'Alone', 'Mother', 'Family Size', 'Family_Survival',\n",
       "       'HadCabin', 'Deck', 'TicketRef', 'Free', 'FareBand_1', 'FareBand_2',\n",
       "       'FareBand_3', 'FareBand_4'],\n",
       "      dtype='object')"
      ]
     },
     "execution_count": 52,
     "metadata": {},
     "output_type": "execute_result"
    }
   ],
   "source": [
    "df_train.columns"
   ]
  },
  {
   "cell_type": "code",
   "execution_count": 53,
   "metadata": {
    "_cell_guid": "21c55533-2b89-47c2-b543-443c39de7778",
    "_uuid": "f26148292ca17a671909a1cf1566394aed056c16"
   },
   "outputs": [
    {
     "data": {
      "text/html": [
       "<div>\n",
       "<style scoped>\n",
       "    .dataframe tbody tr th:only-of-type {\n",
       "        vertical-align: middle;\n",
       "    }\n",
       "\n",
       "    .dataframe tbody tr th {\n",
       "        vertical-align: top;\n",
       "    }\n",
       "\n",
       "    .dataframe thead th {\n",
       "        text-align: right;\n",
       "    }\n",
       "</style>\n",
       "<table border=\"1\" class=\"dataframe\">\n",
       "  <thead>\n",
       "    <tr style=\"text-align: right;\">\n",
       "      <th></th>\n",
       "      <th>PassengerId</th>\n",
       "      <th>Survived</th>\n",
       "      <th>Pclass</th>\n",
       "      <th>Name</th>\n",
       "      <th>Sex</th>\n",
       "      <th>Age</th>\n",
       "      <th>SibSp</th>\n",
       "      <th>Parch</th>\n",
       "      <th>Ticket</th>\n",
       "      <th>Fare</th>\n",
       "      <th>...</th>\n",
       "      <th>Family Size</th>\n",
       "      <th>Family_Survival</th>\n",
       "      <th>HadCabin</th>\n",
       "      <th>Deck</th>\n",
       "      <th>TicketRef</th>\n",
       "      <th>Free</th>\n",
       "      <th>FareBand_1</th>\n",
       "      <th>FareBand_2</th>\n",
       "      <th>FareBand_3</th>\n",
       "      <th>FareBand_4</th>\n",
       "    </tr>\n",
       "  </thead>\n",
       "  <tbody>\n",
       "    <tr>\n",
       "      <th>0</th>\n",
       "      <td>1</td>\n",
       "      <td>0</td>\n",
       "      <td>3</td>\n",
       "      <td>Braund, Mr. Owen Harris</td>\n",
       "      <td>1</td>\n",
       "      <td>22.0</td>\n",
       "      <td>1</td>\n",
       "      <td>0</td>\n",
       "      <td>A5</td>\n",
       "      <td>7.2500</td>\n",
       "      <td>...</td>\n",
       "      <td>2</td>\n",
       "      <td>0.5</td>\n",
       "      <td>0</td>\n",
       "      <td>0</td>\n",
       "      <td>A</td>\n",
       "      <td>0</td>\n",
       "      <td>1</td>\n",
       "      <td>0</td>\n",
       "      <td>0</td>\n",
       "      <td>0</td>\n",
       "    </tr>\n",
       "    <tr>\n",
       "      <th>1</th>\n",
       "      <td>2</td>\n",
       "      <td>1</td>\n",
       "      <td>1</td>\n",
       "      <td>Cumings, Mrs. John Bradley (Florence Briggs Th...</td>\n",
       "      <td>0</td>\n",
       "      <td>38.0</td>\n",
       "      <td>1</td>\n",
       "      <td>0</td>\n",
       "      <td>PC</td>\n",
       "      <td>71.2833</td>\n",
       "      <td>...</td>\n",
       "      <td>2</td>\n",
       "      <td>0.5</td>\n",
       "      <td>1</td>\n",
       "      <td>3</td>\n",
       "      <td>P</td>\n",
       "      <td>0</td>\n",
       "      <td>0</td>\n",
       "      <td>0</td>\n",
       "      <td>0</td>\n",
       "      <td>1</td>\n",
       "    </tr>\n",
       "    <tr>\n",
       "      <th>2</th>\n",
       "      <td>3</td>\n",
       "      <td>1</td>\n",
       "      <td>3</td>\n",
       "      <td>Heikkinen, Miss. Laina</td>\n",
       "      <td>0</td>\n",
       "      <td>26.0</td>\n",
       "      <td>0</td>\n",
       "      <td>0</td>\n",
       "      <td>STONO2</td>\n",
       "      <td>7.9250</td>\n",
       "      <td>...</td>\n",
       "      <td>1</td>\n",
       "      <td>0.5</td>\n",
       "      <td>0</td>\n",
       "      <td>0</td>\n",
       "      <td>S</td>\n",
       "      <td>0</td>\n",
       "      <td>0</td>\n",
       "      <td>1</td>\n",
       "      <td>0</td>\n",
       "      <td>0</td>\n",
       "    </tr>\n",
       "    <tr>\n",
       "      <th>3</th>\n",
       "      <td>4</td>\n",
       "      <td>1</td>\n",
       "      <td>1</td>\n",
       "      <td>Futrelle, Mrs. Jacques Heath (Lily May Peel)</td>\n",
       "      <td>0</td>\n",
       "      <td>35.0</td>\n",
       "      <td>1</td>\n",
       "      <td>0</td>\n",
       "      <td>X</td>\n",
       "      <td>53.1000</td>\n",
       "      <td>...</td>\n",
       "      <td>2</td>\n",
       "      <td>0.0</td>\n",
       "      <td>1</td>\n",
       "      <td>3</td>\n",
       "      <td>X</td>\n",
       "      <td>0</td>\n",
       "      <td>0</td>\n",
       "      <td>0</td>\n",
       "      <td>0</td>\n",
       "      <td>1</td>\n",
       "    </tr>\n",
       "    <tr>\n",
       "      <th>4</th>\n",
       "      <td>5</td>\n",
       "      <td>0</td>\n",
       "      <td>3</td>\n",
       "      <td>Allen, Mr. William Henry</td>\n",
       "      <td>1</td>\n",
       "      <td>35.0</td>\n",
       "      <td>0</td>\n",
       "      <td>0</td>\n",
       "      <td>X</td>\n",
       "      <td>8.0500</td>\n",
       "      <td>...</td>\n",
       "      <td>1</td>\n",
       "      <td>0.5</td>\n",
       "      <td>0</td>\n",
       "      <td>0</td>\n",
       "      <td>X</td>\n",
       "      <td>0</td>\n",
       "      <td>0</td>\n",
       "      <td>1</td>\n",
       "      <td>0</td>\n",
       "      <td>0</td>\n",
       "    </tr>\n",
       "  </tbody>\n",
       "</table>\n",
       "<p>5 rows × 48 columns</p>\n",
       "</div>"
      ],
      "text/plain": [
       "   PassengerId  Survived  Pclass  \\\n",
       "0            1         0       3   \n",
       "1            2         1       1   \n",
       "2            3         1       3   \n",
       "3            4         1       1   \n",
       "4            5         0       3   \n",
       "\n",
       "                                                Name  Sex   Age  SibSp  Parch  \\\n",
       "0                            Braund, Mr. Owen Harris    1  22.0      1      0   \n",
       "1  Cumings, Mrs. John Bradley (Florence Briggs Th...    0  38.0      1      0   \n",
       "2                             Heikkinen, Miss. Laina    0  26.0      0      0   \n",
       "3       Futrelle, Mrs. Jacques Heath (Lily May Peel)    0  35.0      1      0   \n",
       "4                           Allen, Mr. William Henry    1  35.0      0      0   \n",
       "\n",
       "   Ticket     Fare     ...     Family Size  Family_Survival HadCabin  Deck  \\\n",
       "0      A5   7.2500     ...               2              0.5        0     0   \n",
       "1      PC  71.2833     ...               2              0.5        1     3   \n",
       "2  STONO2   7.9250     ...               1              0.5        0     0   \n",
       "3       X  53.1000     ...               2              0.0        1     3   \n",
       "4       X   8.0500     ...               1              0.5        0     0   \n",
       "\n",
       "   TicketRef  Free FareBand_1  FareBand_2  FareBand_3  FareBand_4  \n",
       "0          A     0          1           0           0           0  \n",
       "1          P     0          0           0           0           1  \n",
       "2          S     0          0           1           0           0  \n",
       "3          X     0          0           0           0           1  \n",
       "4          X     0          0           1           0           0  \n",
       "\n",
       "[5 rows x 48 columns]"
      ]
     },
     "execution_count": 53,
     "metadata": {},
     "output_type": "execute_result"
    }
   ],
   "source": [
    "df_train.head()"
   ]
  },
  {
   "cell_type": "markdown",
   "metadata": {
    "_cell_guid": "ef7d08df-a34f-407c-9d7e-5ba8803b3f7e",
    "_uuid": "1cde5b8da29fe2cdf3bb28a27cca13c636d9bfde"
   },
   "source": [
    "## Select Columns of Interest"
   ]
  },
  {
   "cell_type": "code",
   "execution_count": 56,
   "metadata": {
    "_cell_guid": "8933e641-cfa4-4c9b-bbc8-b08f8830dcf0",
    "_uuid": "e103c4e81407988ae5ca3783cb042e9eec7a1db1"
   },
   "outputs": [],
   "source": [
    "# Create list of interesting columns\n",
    "SIMPLE_COLUMNS=['Pclass','Age','SibSp','Parch','Family_Survival','Alone','Sex_female','Sex_male','Title_Master', 'Title_Miss','Title_Mr', 'Title_Mrs', 'Title_Millitary','Embarked'] #84\n",
    "INTERESTING_COLUMNS=['Survived','Pclass','Age','SibSp','Parch','Title','Alone','Mother','Family Size','Family_Survival','Embarked','FareBand','TicketRef']\n",
    "CATEGORY_COLUMNS=['Family Size','Family_Survival','Alone','Mother','Sex_female','Sex_male','AgeBand_Child',\n",
    "       'AgeBand_Young Adult', 'AgeBand_Adult', 'AgeBand_Older Adult',\n",
    "       'AgeBand_Senior','Title_Master', 'Title_Miss','Title_Mr', 'Title_Mrs', 'Title_Millitary','NameBand_1',\n",
    "       'NameBand_2', 'NameBand_3', 'NameBand_4', 'NameBand_5','Embarked',\n",
    "       'HadCabin','Free','FareBand_1', 'FareBand_2', 'FareBand_3', 'FareBand_4'] "
   ]
  },
  {
   "cell_type": "markdown",
   "metadata": {
    "_cell_guid": "afe77855-d9f3-47ec-af05-0da48baa7656",
    "_uuid": "3d597ed6199a01efefeb4d36848c2f321a9a622d"
   },
   "source": [
    "# Re-evaluate the on new features"
   ]
  },
  {
   "cell_type": "code",
   "execution_count": 57,
   "metadata": {
    "_cell_guid": "aaa2c9cc-234e-455a-bb25-339d5655a286",
    "_uuid": "560b663f936650b7a6c2c844eac395f5de41dd23",
    "scrolled": true
   },
   "outputs": [
    {
     "name": "stdout",
     "output_type": "stream",
     "text": [
      "Evaluation complete\n",
      "Accuracy: 0.8544776119402985\n"
     ]
    }
   ],
   "source": [
    "# create test and training data\n",
    "test = df_test[CATEGORY_COLUMNS].fillna(-1000)\n",
    "data_to_train = df_train[CATEGORY_COLUMNS].fillna(-1000)\n",
    "X_train, X_test, y_train, y_test = train_test_split(data_to_train, df_train['Survived'], test_size=0.3,random_state=21, stratify=df_train['Survived'])\n",
    "\n",
    "RandomForest = RandomForestClassifier(random_state = 0)\n",
    "RandomForest.fit(X_train, y_train)\n",
    "print('Evaluation complete')\n",
    "# Print the accuracy# Print  \n",
    "print(\"Accuracy: {}\".format(RandomForest.score(X_test, y_test)))"
   ]
  },
  {
   "cell_type": "markdown",
   "metadata": {
    "_cell_guid": "a77a118e-e7aa-4af8-803d-20ad04135c34",
    "_uuid": "7c5f4cc81c76302ca6055d342d8a576033f6ba52"
   },
   "source": [
    "## Feature Correlation"
   ]
  },
  {
   "cell_type": "code",
   "execution_count": 58,
   "metadata": {
    "_cell_guid": "a0af02a5-6e8f-48fc-9402-c3d81f75e912",
    "_uuid": "5e99cf817172444c0f5b868d186c288d85e46d39"
   },
   "outputs": [
    {
     "data": {
      "text/plain": [
       "<matplotlib.axes._subplots.AxesSubplot at 0x20d3352d4a8>"
      ]
     },
     "execution_count": 58,
     "metadata": {},
     "output_type": "execute_result"
    },
    {
     "data": {
      "image/png": "[encoded data removed]",
      "text/plain": [
       "<matplotlib.figure.Figure at 0x20d339c6320>"
      ]
     },
     "metadata": {},
     "output_type": "display_data"
    }
   ],
   "source": [
    "#map feature correlation\n",
    "f,ax = plt.subplots(figsize=(12, 12))\n",
    "sns.heatmap(df_train[INTERESTING_COLUMNS].corr(),annot=True, linewidths=.5, fmt= '.1f',ax=ax)"
   ]
  },
  {
   "cell_type": "markdown",
   "metadata": {
    "_cell_guid": "d95e4667-d810-46d3-a832-e781e58fdbc0",
    "_uuid": "9faa0d437e4c7943e1639d0acfb33780a8b2b24b"
   },
   "source": [
    "## Feature Importance (for random forest)"
   ]
  },
  {
   "cell_type": "code",
   "execution_count": 59,
   "metadata": {
    "_cell_guid": "737ac635-c4d8-48a4-858e-797d803b2c14",
    "_uuid": "71d23b03f840b1b757245bb3c1aa0641e49eefdd"
   },
   "outputs": [
    {
     "name": "stdout",
     "output_type": "stream",
     "text": [
      "                     Feature_Importance\n",
      "Family_Survival                0.135590\n",
      "Sex_female                     0.121696\n",
      "Title_Mr                       0.104975\n",
      "Sex_male                       0.099477\n",
      "Family Size                    0.083297\n",
      "HadCabin                       0.072219\n",
      "Embarked                       0.058382\n",
      "AgeBand_Adult                  0.031066\n",
      "FareBand_2                     0.030895\n",
      "FareBand_4                     0.028912\n",
      "FareBand_3                     0.024524\n",
      "Alone                          0.022594\n",
      "AgeBand_Young Adult            0.022190\n",
      "NameBand_2                     0.020789\n",
      "Title_Mrs                      0.019254\n",
      "Title_Miss                     0.018878\n",
      "NameBand_1                     0.017837\n",
      "FareBand_1                     0.015167\n",
      "Mother                         0.012815\n",
      "NameBand_3                     0.011686\n",
      "AgeBand_Child                  0.011230\n",
      "Title_Millitary                0.011086\n",
      "AgeBand_Older Adult            0.010545\n",
      "AgeBand_Senior                 0.005908\n",
      "NameBand_4                     0.004051\n",
      "Title_Master                   0.002810\n",
      "Free                           0.002130\n",
      "NameBand_5                     0.000000\n"
     ]
    }
   ],
   "source": [
    "RandomForest_checker = RandomForestClassifier()\n",
    "RandomForest_checker.fit(X_train, y_train)\n",
    "importances_df = pd.DataFrame(RandomForest_checker.feature_importances_, columns=['Feature_Importance'],\n",
    "                              index=X_train.columns)\n",
    "importances_df.sort_values(by=['Feature_Importance'], ascending=False, inplace=True)\n",
    "print(importances_df)"
   ]
  },
  {
   "cell_type": "markdown",
   "metadata": {
    "_cell_guid": "b4680f97-d9e3-40d8-b5b3-39d914e25965",
    "_uuid": "f3425a2b3b51e62d06f9c7550b485ef25b3c7539"
   },
   "source": [
    "# Testing different models and parameters"
   ]
  },
  {
   "cell_type": "markdown",
   "metadata": {
    "_cell_guid": "b506b4f4-e3c2-43a4-a070-75822e288fe7",
    "_uuid": "443ea01c565176c5b6c059653b680651314f0de9"
   },
   "source": [
    "## Split data into test and training"
   ]
  },
  {
   "cell_type": "code",
   "execution_count": 63,
   "metadata": {
    "_cell_guid": "73f4510e-9e33-48b7-96f4-08842da93099",
    "_uuid": "1036293295a5a355f3768ad7fa88457ff8122320"
   },
   "outputs": [
    {
     "name": "stdout",
     "output_type": "stream",
     "text": [
      "Data split\n"
     ]
    }
   ],
   "source": [
    "REVISED_NUMERIC_COLUMNS=['Pclass','Age','SibSp','Parch','Family_Survival','Alone','Title_Master', 'Title_Miss','Title_Mr', 'Title_Mrs', 'Title_Millitary','Embarked'] #84\n",
    "SIMPLE_COLUMNS=['Pclass','Age','SibSp','Parch','Family_Survival','Alone','Sex_female','Sex_male','Title_Master', 'Title_Miss','Title_Mr', 'Title_Mrs', 'Title_Millitary','Embarked'] #84\n",
    "INTERESTING_COLUMNS=['Survived','Pclass','Age','SibSp','Parch','Title','Alone','Mother','Family Size','Family_Survival','Embarked','FareBand','TicketRef']\n",
    "CATEGORY_COLUMNS=['Pclass','SibSp','Parch','Family Size','Family_Survival','Alone','Mother','Sex_female','Sex_male','AgeBand_Child',\n",
    "       'AgeBand_Young Adult', 'AgeBand_Adult', 'AgeBand_Older Adult',\n",
    "       'AgeBand_Senior','Title_Master', 'Title_Miss','Title_Mr', 'Title_Mrs', 'Title_Millitary','NameBand_1',\n",
    "       'NameBand_2', 'NameBand_3', 'NameBand_4', 'NameBand_5','Embarked', 'HadCabin','Free'] \n",
    "CATEGORY_COLUMNS=['Pclass','SibSp','Parch','Family Size','Family_Survival','Alone','Mother','Sex_female','Sex_male','AgeBand_Child',\n",
    "       'AgeBand_Young Adult', 'AgeBand_Adult', 'AgeBand_Older Adult',\n",
    "       'AgeBand_Senior','Title_Master', 'Title_Miss','Title_Mr', 'Title_Mrs', 'Title_Millitary','NameBand_1',\n",
    "       'NameBand_2', 'NameBand_3', 'NameBand_4', 'NameBand_5','Embarked','HadCabin','Free'] \n",
    "\n",
    "#print(df_test.columns)\n",
    "# create test and training data\n",
    "data_to_train = df_train[CATEGORY_COLUMNS].fillna(-1000)\n",
    "prediction = df_train[\"Survived\"]\n",
    "test = df_test[CATEGORY_COLUMNS].fillna(-1000)\n",
    "X_train, X_val, y_train, y_val = train_test_split(data_to_train, prediction, test_size = 0.3,random_state=21, stratify=y)\n",
    "print('Data split')"
   ]
  },
  {
   "cell_type": "markdown",
   "metadata": {
    "_cell_guid": "035469fb-4b8d-4d2d-a056-4498f7d4e815",
    "_uuid": "4f5be1e8410b2208897ae8df93f334ee63332805"
   },
   "source": [
    "## Decision Tree"
   ]
  },
  {
   "cell_type": "code",
   "execution_count": 64,
   "metadata": {
    "_cell_guid": "69e9aa91-4451-47ae-95db-e9c8da605311",
    "_uuid": "21cd723ecb8e0b3c517aa7681523ddde3dab0cd8"
   },
   "outputs": [
    {
     "name": "stdout",
     "output_type": "stream",
     "text": [
      "83.21\n"
     ]
    }
   ],
   "source": [
    "#Decision Tree\n",
    "decisiontree = DecisionTreeClassifier()\n",
    "decisiontree.fit(X_train, y_train)\n",
    "y_pred = decisiontree.predict(X_val)\n",
    "acc_decisiontree = round(accuracy_score(y_pred, y_val) * 100, 2)\n",
    "print(acc_decisiontree)"
   ]
  },
  {
   "cell_type": "markdown",
   "metadata": {
    "_cell_guid": "73a9b607-c0b3-4579-afe4-625f3c802c85",
    "_uuid": "1226a76fd4160f2c9a5c83d59d4ba23f6258e8b6"
   },
   "source": [
    "## Gaussian Naive Bayes"
   ]
  },
  {
   "cell_type": "code",
   "execution_count": 65,
   "metadata": {
    "_cell_guid": "b2b7eee6-4bcb-4663-8d06-7faa3047a705",
    "_uuid": "3163db86046533c476eb9c40aaafd0dce63577be"
   },
   "outputs": [
    {
     "name": "stdout",
     "output_type": "stream",
     "text": [
      "82.84\n"
     ]
    }
   ],
   "source": [
    "# Gaussian Naive Bayes\n",
    "gaussian = GaussianNB()\n",
    "gaussian.fit(X_train, y_train)\n",
    "y_pred = gaussian.predict(X_val)\n",
    "acc_gaussian = round(accuracy_score(y_pred, y_val) * 100, 2)\n",
    "print(acc_gaussian)"
   ]
  },
  {
   "cell_type": "markdown",
   "metadata": {
    "_cell_guid": "cd97481d-ba00-41b7-89e6-02014b794b39",
    "_uuid": "e97caf6ae1e663180b0fce6579a2a70724e6528b"
   },
   "source": [
    "## Gradient Boosting "
   ]
  },
  {
   "cell_type": "code",
   "execution_count": 66,
   "metadata": {
    "_cell_guid": "de1e12f5-6f9a-46ce-b7d1-33c033aabcfa",
    "_uuid": "817368399753a7a1c2c24578f08bdda32b921fe2"
   },
   "outputs": [
    {
     "name": "stdout",
     "output_type": "stream",
     "text": [
      "83.58\n"
     ]
    }
   ],
   "source": [
    "# Gradient Boosting Classifier\n",
    "gbk = GradientBoostingClassifier()\n",
    "gbk.fit(X_train, y_train)\n",
    "y_pred = gbk.predict(X_val)\n",
    "acc_gbk = round(accuracy_score(y_pred, y_val) * 100, 2)\n",
    "print(acc_gbk)"
   ]
  },
  {
   "cell_type": "markdown",
   "metadata": {
    "_cell_guid": "1c5e8de1-2c8c-4ac1-9a04-671da36b521e",
    "_uuid": "26f8526c96d17452f9977cd46e1388a45da47bcf"
   },
   "source": [
    "## K Nearest Neighbors"
   ]
  },
  {
   "cell_type": "code",
   "execution_count": 67,
   "metadata": {
    "_cell_guid": "428dbbda-7b9f-44c9-8e3e-c2236148be81",
    "_uuid": "2592e81883752e4120b2c7385719e388037195e1"
   },
   "outputs": [
    {
     "name": "stdout",
     "output_type": "stream",
     "text": [
      "83.21\n"
     ]
    }
   ],
   "source": [
    "# KNN or k-Nearest Neighbors\n",
    "knn = KNeighborsClassifier()\n",
    "knn.fit(X_train, y_train)\n",
    "y_pred = knn.predict(X_val)\n",
    "acc_knn = round(accuracy_score(y_pred, y_val) * 100, 2)\n",
    "print(acc_knn)"
   ]
  },
  {
   "cell_type": "markdown",
   "metadata": {
    "_cell_guid": "bb023848-8e7f-42de-a3df-03258de1a923",
    "_uuid": "6d165b5f552a2c72edcad498c9eddc890fb937b3"
   },
   "source": [
    "## Logistic Regression"
   ]
  },
  {
   "cell_type": "code",
   "execution_count": 68,
   "metadata": {
    "_cell_guid": "f5eb8864-902d-4b53-935c-c5ae3aa5fc3f",
    "_uuid": "72aa9637fd58ced0b2bc4bf19c8f798bbe9bc027"
   },
   "outputs": [
    {
     "name": "stdout",
     "output_type": "stream",
     "text": [
      "83.58\n"
     ]
    }
   ],
   "source": [
    "# Logistic Regression\n",
    "logreg = LogisticRegression()\n",
    "logreg.fit(X_train, y_train)\n",
    "y_pred = logreg.predict(X_val)\n",
    "acc_logreg = round(accuracy_score(y_pred, y_val) * 100, 2)\n",
    "print(acc_logreg)"
   ]
  },
  {
   "cell_type": "markdown",
   "metadata": {
    "_cell_guid": "074abaa3-522d-43c7-a979-c370d52ae47f",
    "_uuid": "763494c08e2edddef19b49608da458774cb8515f"
   },
   "source": [
    "## Random Forest"
   ]
  },
  {
   "cell_type": "code",
   "execution_count": 70,
   "metadata": {
    "_cell_guid": "104a417c-d913-40fe-81d7-97f71a8db89a",
    "_uuid": "790e9ad10cc6cd242fa959ebec9cc63b9a485996",
    "scrolled": true
   },
   "outputs": [
    {
     "name": "stdout",
     "output_type": "stream",
     "text": [
      "84.7\n"
     ]
    }
   ],
   "source": [
    "# Random Forest\n",
    "randomforest = RandomForestClassifier(random_state = 0)\n",
    "randomforest.fit(X_train, y_train)\n",
    "y_pred = randomforest.predict(X_val)\n",
    "acc_randomforest = round(accuracy_score(y_pred, y_val) * 100, 2)\n",
    "print(acc_randomforest)"
   ]
  },
  {
   "cell_type": "markdown",
   "metadata": {
    "_cell_guid": "d66a6c84-133f-4600-83bc-dde061dcd523",
    "_uuid": "8ec249236702ac1e14d9eca31bf9663666b531fa"
   },
   "source": [
    "## Stochastic Gradient Descent"
   ]
  },
  {
   "cell_type": "code",
   "execution_count": 71,
   "metadata": {
    "_cell_guid": "e422b7cc-f6f8-4a35-8de4-119b11409dbe",
    "_uuid": "549cc6b5b02f76aab75a3b025005b40876401a33"
   },
   "outputs": [
    {
     "name": "stdout",
     "output_type": "stream",
     "text": [
      "72.39\n"
     ]
    },
    {
     "name": "stderr",
     "output_type": "stream",
     "text": [
      "d:\\installations\\programs\\python 3.6.2\\lib\\site-packages\\sklearn\\linear_model\\stochastic_gradient.py:128: FutureWarning: max_iter and tol parameters have been added in <class 'sklearn.linear_model.stochastic_gradient.SGDClassifier'> in 0.19. If both are left unset, they default to max_iter=5 and tol=None. If tol is not None, max_iter defaults to max_iter=1000. From 0.21, default max_iter will be 1000, and default tol will be 1e-3.\n",
      "  \"and default tol will be 1e-3.\" % type(self), FutureWarning)\n"
     ]
    }
   ],
   "source": [
    "# Stochastic Gradient Descent\n",
    "sgd = SGDClassifier()\n",
    "sgd.fit(X_train, y_train)\n",
    "y_pred = sgd.predict(X_val)\n",
    "acc_sgd = round(accuracy_score(y_pred, y_val) * 100, 2)\n",
    "print(acc_sgd)"
   ]
  },
  {
   "cell_type": "markdown",
   "metadata": {
    "_cell_guid": "aa24897d-baa0-44f3-a100-b50ed321aab9",
    "_uuid": "d18a7378e66211672e4317485b4ddf83969f8be4"
   },
   "source": [
    "## Support Vector Machines\n",
    "\n",
    "Has more flexibility in the choice of penalties and loss functions and should scale better to large numbers of samples.\n",
    "1. This class supports both dense and sparse input and the multiclass support is handled according to a one-vs-the-rest scheme."
   ]
  },
  {
   "cell_type": "code",
   "execution_count": 72,
   "metadata": {
    "_cell_guid": "d34aa302-fc6d-4787-a8a8-36273d85d01c",
    "_uuid": "66ae498ded981e6269358cfe6bc60fed3b5faadd"
   },
   "outputs": [
    {
     "name": "stdout",
     "output_type": "stream",
     "text": [
      "83.58\n"
     ]
    }
   ],
   "source": [
    "# instanciate model\n",
    "clf = SVC()\n",
    "# fit model\n",
    "clf.fit(X_train, y_train)\n",
    "# predict results\n",
    "y_pred = clf.predict(X_val)\n",
    "# check accuracy\n",
    "acc_clf = round(accuracy_score(y_pred, y_val) * 100, 2)\n",
    "#print accuracy\n",
    "print(acc_clf)"
   ]
  },
  {
   "cell_type": "markdown",
   "metadata": {
    "_cell_guid": "29196c0a-5f90-4bdb-88bb-72ad07c12732",
    "_uuid": "e8fadb4412e7274f4fe91daf9f5c899beb9ac80d"
   },
   "source": [
    "## Comparing the results"
   ]
  },
  {
   "cell_type": "code",
   "execution_count": 91,
   "metadata": {},
   "outputs": [
    {
     "data": {
      "text/html": [
       "<div>\n",
       "<style scoped>\n",
       "    .dataframe tbody tr th:only-of-type {\n",
       "        vertical-align: middle;\n",
       "    }\n",
       "\n",
       "    .dataframe tbody tr th {\n",
       "        vertical-align: top;\n",
       "    }\n",
       "\n",
       "    .dataframe thead th {\n",
       "        text-align: right;\n",
       "    }\n",
       "</style>\n",
       "<table border=\"1\" class=\"dataframe\">\n",
       "  <thead>\n",
       "    <tr style=\"text-align: right;\">\n",
       "      <th></th>\n",
       "      <th>Model</th>\n",
       "      <th>Score</th>\n",
       "    </tr>\n",
       "  </thead>\n",
       "  <tbody>\n",
       "    <tr>\n",
       "      <th>3</th>\n",
       "      <td>Random Forest</td>\n",
       "      <td>84.70</td>\n",
       "    </tr>\n",
       "    <tr>\n",
       "      <th>0</th>\n",
       "      <td>Support Vector Machines</td>\n",
       "      <td>83.58</td>\n",
       "    </tr>\n",
       "    <tr>\n",
       "      <th>2</th>\n",
       "      <td>Logistic Regression</td>\n",
       "      <td>83.58</td>\n",
       "    </tr>\n",
       "    <tr>\n",
       "      <th>6</th>\n",
       "      <td>Gradient Boosting Classifier</td>\n",
       "      <td>83.58</td>\n",
       "    </tr>\n",
       "    <tr>\n",
       "      <th>1</th>\n",
       "      <td>KNN</td>\n",
       "      <td>83.21</td>\n",
       "    </tr>\n",
       "    <tr>\n",
       "      <th>5</th>\n",
       "      <td>Decision Tree</td>\n",
       "      <td>83.21</td>\n",
       "    </tr>\n",
       "    <tr>\n",
       "      <th>9</th>\n",
       "      <td>xgboost</td>\n",
       "      <td>83.21</td>\n",
       "    </tr>\n",
       "    <tr>\n",
       "      <th>4</th>\n",
       "      <td>Naive Bayes</td>\n",
       "      <td>82.84</td>\n",
       "    </tr>\n",
       "    <tr>\n",
       "      <th>7</th>\n",
       "      <td>Stochastic Gradient Descent</td>\n",
       "      <td>72.39</td>\n",
       "    </tr>\n",
       "    <tr>\n",
       "      <th>8</th>\n",
       "      <td>Perceptron</td>\n",
       "      <td>72.39</td>\n",
       "    </tr>\n",
       "  </tbody>\n",
       "</table>\n",
       "</div>"
      ],
      "text/plain": [
       "                          Model  Score\n",
       "3                 Random Forest  84.70\n",
       "0       Support Vector Machines  83.58\n",
       "2           Logistic Regression  83.58\n",
       "6  Gradient Boosting Classifier  83.58\n",
       "1                           KNN  83.21\n",
       "5                 Decision Tree  83.21\n",
       "9                       xgboost  83.21\n",
       "4                   Naive Bayes  82.84\n",
       "7   Stochastic Gradient Descent  72.39\n",
       "8                    Perceptron  72.39"
      ]
     },
     "execution_count": 91,
     "metadata": {},
     "output_type": "execute_result"
    }
   ],
   "source": [
    "models = pd.DataFrame({\n",
    "    'Model': ['Support Vector Machines', 'KNN', 'Logistic Regression', \n",
    "              'Random Forest', 'Naive Bayes',\n",
    "              'Decision Tree', 'Gradient Boosting Classifier','Stochastic Gradient Descent','Perceptron','xgboost'],\n",
    "    'Score': [acc_clf, acc_knn, acc_logreg,acc_randomforest, acc_gaussian,acc_decisiontree,acc_gbk,acc_sgd,acc_perceptron,acc_xgb]})\n",
    "models.sort_values(by='Score', ascending=False)"
   ]
  },
  {
   "cell_type": "code",
   "execution_count": null,
   "metadata": {},
   "outputs": [],
   "source": []
  }
 ],
 "metadata": {
  "kernelspec": {
   "display_name": "Python 3",
   "language": "python",
   "name": "python3"
  },
  "language_info": {
   "codemirror_mode": {
    "name": "ipython",
    "version": 3
   },
   "file_extension": ".py",
   "mimetype": "text/x-python",
   "name": "python",
   "nbconvert_exporter": "python",
   "pygments_lexer": "ipython3",
   "version": "3.6.2"
  }
 },
 "nbformat": 4,
 "nbformat_minor": 1
}
